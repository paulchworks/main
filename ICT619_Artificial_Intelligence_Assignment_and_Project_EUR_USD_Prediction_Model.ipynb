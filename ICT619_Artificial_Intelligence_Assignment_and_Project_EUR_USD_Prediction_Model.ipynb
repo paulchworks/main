{
  "cells": [
    {
      "cell_type": "markdown",
      "metadata": {
        "id": "view-in-github",
        "colab_type": "text"
      },
      "source": [
        "<a href=\"https://colab.research.google.com/github/paulchworks/main/blob/master/ICT619_Artificial_Intelligence_Assignment_and_Project_EUR_USD_Prediction_Model.ipynb\" target=\"_parent\"><img src=\"https://colab.research.google.com/assets/colab-badge.svg\" alt=\"Open In Colab\"/></a>"
      ]
    },
    {
      "cell_type": "markdown",
      "metadata": {
        "id": "4NS62FKc-y8e"
      },
      "source": [
        "**ICT619 Artificial Intelligence Assignment and Project - EUR/USD Prediction Model**  \n",
        "\n",
        "*   34165578 CHOW KUM SIONG (PAUL) \n",
        "*   34298294 NYAN WIN MYINT"
      ]
    },
    {
      "cell_type": "code",
      "source": [
        "import sys\n",
        "\n",
        "# Confirm that we're using Python 3\n",
        "assert sys.version_info.major == 3, 'Oops, not running Python 3. Use Runtime > Change runtime type'"
      ],
      "metadata": {
        "id": "rzqrp9ZxHrVb"
      },
      "execution_count": 1,
      "outputs": []
    },
    {
      "cell_type": "code",
      "source": [
        "# TensorFlow and tf.keras\n",
        "print(\"Installing dependencies for Colab environment\")\n",
        "!pip install -Uq grpcio==1.26.0\n",
        "\n",
        "import tensorflow as tf\n",
        "from tensorflow import keras\n",
        "import numpy as np\n",
        "import matplotlib.pyplot as plt\n",
        "import os, re, time, json\n",
        "import subprocess\n",
        "\n",
        "print('TensorFlow version: {}'.format(tf.__version__))"
      ],
      "metadata": {
        "colab": {
          "base_uri": "https://localhost:8080/"
        },
        "id": "F0rFreibHwLx",
        "outputId": "b08cd00d-6161-4181-ed48-1d1551c7fcc8"
      },
      "execution_count": 2,
      "outputs": [
        {
          "output_type": "stream",
          "name": "stdout",
          "text": [
            "Installing dependencies for Colab environment\n",
            "TensorFlow version: 2.8.2\n"
          ]
        }
      ]
    },
    {
      "cell_type": "code",
      "execution_count": 3,
      "metadata": {
        "id": "VRH0IAtswd9s"
      },
      "outputs": [],
      "source": [
        "from io import StringIO\n",
        "import requests\n",
        "import json\n",
        "import pandas as pd\n",
        "import numpy as np\n",
        "import types\n"
      ]
    },
    {
      "cell_type": "code",
      "execution_count": 4,
      "metadata": {
        "id": "9e0p-kw63Gy0"
      },
      "outputs": [],
      "source": [
        "# Code to read csv file into Colaboratory:\n",
        "!pip install -U -q PyDrive\n",
        "from pydrive.auth import GoogleAuth\n",
        "from pydrive.drive import GoogleDrive\n",
        "from google.colab import auth\n",
        "from oauth2client.client import GoogleCredentials\n",
        "# Authenticate and create the PyDrive client.\n",
        "auth.authenticate_user()\n",
        "gauth = GoogleAuth()\n",
        "gauth.credentials = GoogleCredentials.get_application_default()\n",
        "drive = GoogleDrive(gauth)"
      ]
    },
    {
      "cell_type": "code",
      "execution_count": 5,
      "metadata": {
        "id": "siVwdgnN28R9"
      },
      "outputs": [],
      "source": [
        "link = 'https://drive.google.com/open?id=1KwyaeNvkGAVM7w6qGbedgFSlgZTu1hvG'"
      ]
    },
    {
      "cell_type": "code",
      "execution_count": 6,
      "metadata": {
        "colab": {
          "base_uri": "https://localhost:8080/"
        },
        "id": "5JtyiXaY4UJJ",
        "outputId": "473fe73b-2d0f-47af-94df-58cf4a18b7a1"
      },
      "outputs": [
        {
          "output_type": "stream",
          "name": "stdout",
          "text": [
            "1KwyaeNvkGAVM7w6qGbedgFSlgZTu1hvG\n"
          ]
        }
      ],
      "source": [
        "fluff, id = link.split('=')\n",
        "print (id) # Verify that id after '='"
      ]
    },
    {
      "cell_type": "code",
      "execution_count": 7,
      "metadata": {
        "id": "rDuW_rve4YXR"
      },
      "outputs": [],
      "source": [
        "downloaded = drive.CreateFile({'id':id}) \n",
        "downloaded.GetContentFile('220524-220607_EURUSD_historical_data.csv')  \n",
        "df_EURUSD = pd.read_csv('220524-220607_EURUSD_historical_data.csv')"
      ]
    },
    {
      "cell_type": "code",
      "execution_count": 8,
      "metadata": {
        "colab": {
          "base_uri": "https://localhost:8080/",
          "height": 693
        },
        "id": "ibg3KeFx4uP7",
        "outputId": "0129831c-1262-4ca5-a320-9b72a1343429"
      },
      "outputs": [
        {
          "output_type": "stream",
          "name": "stdout",
          "text": [
            "(932, 5)\n"
          ]
        },
        {
          "output_type": "execute_result",
          "data": {
            "text/plain": [
              "          DATE_TIME     HIGH      LOW     OPEN    CLOSE\n",
              "0    5/24/2022 7:15  1.07325  1.07162  1.07238  1.07236\n",
              "1    5/24/2022 7:30  1.07345  1.07196  1.07240  1.07337\n",
              "2    5/24/2022 7:45  1.07362  1.07248  1.07338  1.07309\n",
              "3    5/24/2022 8:00  1.07336  1.07167  1.07306  1.07183\n",
              "4    5/24/2022 8:15  1.07184  1.07055  1.07181  1.07121\n",
              "5    5/24/2022 8:30  1.07154  1.07012  1.07115  1.07051\n",
              "6    5/24/2022 8:45  1.07178  1.07033  1.07051  1.07046\n",
              "7    5/24/2022 9:00  1.07152  1.07042  1.07047  1.07144\n",
              "8    5/24/2022 9:15  1.07193  1.07138  1.07148  1.07144\n",
              "9    5/24/2022 9:30  1.07150  1.07054  1.07147  1.07085\n",
              "10   5/24/2022 9:45  1.07130  1.07061  1.07084  1.07114\n",
              "11  5/24/2022 10:00  1.07199  1.07108  1.07117  1.07183\n",
              "12  5/24/2022 10:15  1.07194  1.07141  1.07178  1.07156\n",
              "13  5/24/2022 10:30  1.07171  1.07075  1.07159  1.07110\n",
              "14  5/24/2022 10:45  1.07133  1.07046  1.07108  1.07093\n",
              "15  5/24/2022 11:00  1.07107  1.07033  1.07095  1.07037\n",
              "16  5/24/2022 11:15  1.07106  1.07022  1.07039  1.07091\n",
              "17  5/24/2022 11:30  1.07279  1.07090  1.07091  1.07175\n",
              "18  5/24/2022 11:45  1.07264  1.07117  1.07171  1.07145\n",
              "19  5/24/2022 12:00  1.07228  1.07147  1.07147  1.07200"
            ],
            "text/html": [
              "\n",
              "  <div id=\"df-e29f9982-50cb-4a31-a4fe-94df05c1a6bf\">\n",
              "    <div class=\"colab-df-container\">\n",
              "      <div>\n",
              "<style scoped>\n",
              "    .dataframe tbody tr th:only-of-type {\n",
              "        vertical-align: middle;\n",
              "    }\n",
              "\n",
              "    .dataframe tbody tr th {\n",
              "        vertical-align: top;\n",
              "    }\n",
              "\n",
              "    .dataframe thead th {\n",
              "        text-align: right;\n",
              "    }\n",
              "</style>\n",
              "<table border=\"1\" class=\"dataframe\">\n",
              "  <thead>\n",
              "    <tr style=\"text-align: right;\">\n",
              "      <th></th>\n",
              "      <th>DATE_TIME</th>\n",
              "      <th>HIGH</th>\n",
              "      <th>LOW</th>\n",
              "      <th>OPEN</th>\n",
              "      <th>CLOSE</th>\n",
              "    </tr>\n",
              "  </thead>\n",
              "  <tbody>\n",
              "    <tr>\n",
              "      <th>0</th>\n",
              "      <td>5/24/2022 7:15</td>\n",
              "      <td>1.07325</td>\n",
              "      <td>1.07162</td>\n",
              "      <td>1.07238</td>\n",
              "      <td>1.07236</td>\n",
              "    </tr>\n",
              "    <tr>\n",
              "      <th>1</th>\n",
              "      <td>5/24/2022 7:30</td>\n",
              "      <td>1.07345</td>\n",
              "      <td>1.07196</td>\n",
              "      <td>1.07240</td>\n",
              "      <td>1.07337</td>\n",
              "    </tr>\n",
              "    <tr>\n",
              "      <th>2</th>\n",
              "      <td>5/24/2022 7:45</td>\n",
              "      <td>1.07362</td>\n",
              "      <td>1.07248</td>\n",
              "      <td>1.07338</td>\n",
              "      <td>1.07309</td>\n",
              "    </tr>\n",
              "    <tr>\n",
              "      <th>3</th>\n",
              "      <td>5/24/2022 8:00</td>\n",
              "      <td>1.07336</td>\n",
              "      <td>1.07167</td>\n",
              "      <td>1.07306</td>\n",
              "      <td>1.07183</td>\n",
              "    </tr>\n",
              "    <tr>\n",
              "      <th>4</th>\n",
              "      <td>5/24/2022 8:15</td>\n",
              "      <td>1.07184</td>\n",
              "      <td>1.07055</td>\n",
              "      <td>1.07181</td>\n",
              "      <td>1.07121</td>\n",
              "    </tr>\n",
              "    <tr>\n",
              "      <th>5</th>\n",
              "      <td>5/24/2022 8:30</td>\n",
              "      <td>1.07154</td>\n",
              "      <td>1.07012</td>\n",
              "      <td>1.07115</td>\n",
              "      <td>1.07051</td>\n",
              "    </tr>\n",
              "    <tr>\n",
              "      <th>6</th>\n",
              "      <td>5/24/2022 8:45</td>\n",
              "      <td>1.07178</td>\n",
              "      <td>1.07033</td>\n",
              "      <td>1.07051</td>\n",
              "      <td>1.07046</td>\n",
              "    </tr>\n",
              "    <tr>\n",
              "      <th>7</th>\n",
              "      <td>5/24/2022 9:00</td>\n",
              "      <td>1.07152</td>\n",
              "      <td>1.07042</td>\n",
              "      <td>1.07047</td>\n",
              "      <td>1.07144</td>\n",
              "    </tr>\n",
              "    <tr>\n",
              "      <th>8</th>\n",
              "      <td>5/24/2022 9:15</td>\n",
              "      <td>1.07193</td>\n",
              "      <td>1.07138</td>\n",
              "      <td>1.07148</td>\n",
              "      <td>1.07144</td>\n",
              "    </tr>\n",
              "    <tr>\n",
              "      <th>9</th>\n",
              "      <td>5/24/2022 9:30</td>\n",
              "      <td>1.07150</td>\n",
              "      <td>1.07054</td>\n",
              "      <td>1.07147</td>\n",
              "      <td>1.07085</td>\n",
              "    </tr>\n",
              "    <tr>\n",
              "      <th>10</th>\n",
              "      <td>5/24/2022 9:45</td>\n",
              "      <td>1.07130</td>\n",
              "      <td>1.07061</td>\n",
              "      <td>1.07084</td>\n",
              "      <td>1.07114</td>\n",
              "    </tr>\n",
              "    <tr>\n",
              "      <th>11</th>\n",
              "      <td>5/24/2022 10:00</td>\n",
              "      <td>1.07199</td>\n",
              "      <td>1.07108</td>\n",
              "      <td>1.07117</td>\n",
              "      <td>1.07183</td>\n",
              "    </tr>\n",
              "    <tr>\n",
              "      <th>12</th>\n",
              "      <td>5/24/2022 10:15</td>\n",
              "      <td>1.07194</td>\n",
              "      <td>1.07141</td>\n",
              "      <td>1.07178</td>\n",
              "      <td>1.07156</td>\n",
              "    </tr>\n",
              "    <tr>\n",
              "      <th>13</th>\n",
              "      <td>5/24/2022 10:30</td>\n",
              "      <td>1.07171</td>\n",
              "      <td>1.07075</td>\n",
              "      <td>1.07159</td>\n",
              "      <td>1.07110</td>\n",
              "    </tr>\n",
              "    <tr>\n",
              "      <th>14</th>\n",
              "      <td>5/24/2022 10:45</td>\n",
              "      <td>1.07133</td>\n",
              "      <td>1.07046</td>\n",
              "      <td>1.07108</td>\n",
              "      <td>1.07093</td>\n",
              "    </tr>\n",
              "    <tr>\n",
              "      <th>15</th>\n",
              "      <td>5/24/2022 11:00</td>\n",
              "      <td>1.07107</td>\n",
              "      <td>1.07033</td>\n",
              "      <td>1.07095</td>\n",
              "      <td>1.07037</td>\n",
              "    </tr>\n",
              "    <tr>\n",
              "      <th>16</th>\n",
              "      <td>5/24/2022 11:15</td>\n",
              "      <td>1.07106</td>\n",
              "      <td>1.07022</td>\n",
              "      <td>1.07039</td>\n",
              "      <td>1.07091</td>\n",
              "    </tr>\n",
              "    <tr>\n",
              "      <th>17</th>\n",
              "      <td>5/24/2022 11:30</td>\n",
              "      <td>1.07279</td>\n",
              "      <td>1.07090</td>\n",
              "      <td>1.07091</td>\n",
              "      <td>1.07175</td>\n",
              "    </tr>\n",
              "    <tr>\n",
              "      <th>18</th>\n",
              "      <td>5/24/2022 11:45</td>\n",
              "      <td>1.07264</td>\n",
              "      <td>1.07117</td>\n",
              "      <td>1.07171</td>\n",
              "      <td>1.07145</td>\n",
              "    </tr>\n",
              "    <tr>\n",
              "      <th>19</th>\n",
              "      <td>5/24/2022 12:00</td>\n",
              "      <td>1.07228</td>\n",
              "      <td>1.07147</td>\n",
              "      <td>1.07147</td>\n",
              "      <td>1.07200</td>\n",
              "    </tr>\n",
              "  </tbody>\n",
              "</table>\n",
              "</div>\n",
              "      <button class=\"colab-df-convert\" onclick=\"convertToInteractive('df-e29f9982-50cb-4a31-a4fe-94df05c1a6bf')\"\n",
              "              title=\"Convert this dataframe to an interactive table.\"\n",
              "              style=\"display:none;\">\n",
              "        \n",
              "  <svg xmlns=\"http://www.w3.org/2000/svg\" height=\"24px\"viewBox=\"0 0 24 24\"\n",
              "       width=\"24px\">\n",
              "    <path d=\"M0 0h24v24H0V0z\" fill=\"none\"/>\n",
              "    <path d=\"M18.56 5.44l.94 2.06.94-2.06 2.06-.94-2.06-.94-.94-2.06-.94 2.06-2.06.94zm-11 1L8.5 8.5l.94-2.06 2.06-.94-2.06-.94L8.5 2.5l-.94 2.06-2.06.94zm10 10l.94 2.06.94-2.06 2.06-.94-2.06-.94-.94-2.06-.94 2.06-2.06.94z\"/><path d=\"M17.41 7.96l-1.37-1.37c-.4-.4-.92-.59-1.43-.59-.52 0-1.04.2-1.43.59L10.3 9.45l-7.72 7.72c-.78.78-.78 2.05 0 2.83L4 21.41c.39.39.9.59 1.41.59.51 0 1.02-.2 1.41-.59l7.78-7.78 2.81-2.81c.8-.78.8-2.07 0-2.86zM5.41 20L4 18.59l7.72-7.72 1.47 1.35L5.41 20z\"/>\n",
              "  </svg>\n",
              "      </button>\n",
              "      \n",
              "  <style>\n",
              "    .colab-df-container {\n",
              "      display:flex;\n",
              "      flex-wrap:wrap;\n",
              "      gap: 12px;\n",
              "    }\n",
              "\n",
              "    .colab-df-convert {\n",
              "      background-color: #E8F0FE;\n",
              "      border: none;\n",
              "      border-radius: 50%;\n",
              "      cursor: pointer;\n",
              "      display: none;\n",
              "      fill: #1967D2;\n",
              "      height: 32px;\n",
              "      padding: 0 0 0 0;\n",
              "      width: 32px;\n",
              "    }\n",
              "\n",
              "    .colab-df-convert:hover {\n",
              "      background-color: #E2EBFA;\n",
              "      box-shadow: 0px 1px 2px rgba(60, 64, 67, 0.3), 0px 1px 3px 1px rgba(60, 64, 67, 0.15);\n",
              "      fill: #174EA6;\n",
              "    }\n",
              "\n",
              "    [theme=dark] .colab-df-convert {\n",
              "      background-color: #3B4455;\n",
              "      fill: #D2E3FC;\n",
              "    }\n",
              "\n",
              "    [theme=dark] .colab-df-convert:hover {\n",
              "      background-color: #434B5C;\n",
              "      box-shadow: 0px 1px 3px 1px rgba(0, 0, 0, 0.15);\n",
              "      filter: drop-shadow(0px 1px 2px rgba(0, 0, 0, 0.3));\n",
              "      fill: #FFFFFF;\n",
              "    }\n",
              "  </style>\n",
              "\n",
              "      <script>\n",
              "        const buttonEl =\n",
              "          document.querySelector('#df-e29f9982-50cb-4a31-a4fe-94df05c1a6bf button.colab-df-convert');\n",
              "        buttonEl.style.display =\n",
              "          google.colab.kernel.accessAllowed ? 'block' : 'none';\n",
              "\n",
              "        async function convertToInteractive(key) {\n",
              "          const element = document.querySelector('#df-e29f9982-50cb-4a31-a4fe-94df05c1a6bf');\n",
              "          const dataTable =\n",
              "            await google.colab.kernel.invokeFunction('convertToInteractive',\n",
              "                                                     [key], {});\n",
              "          if (!dataTable) return;\n",
              "\n",
              "          const docLinkHtml = 'Like what you see? Visit the ' +\n",
              "            '<a target=\"_blank\" href=https://colab.research.google.com/notebooks/data_table.ipynb>data table notebook</a>'\n",
              "            + ' to learn more about interactive tables.';\n",
              "          element.innerHTML = '';\n",
              "          dataTable['output_type'] = 'display_data';\n",
              "          await google.colab.output.renderOutput(dataTable, element);\n",
              "          const docLink = document.createElement('div');\n",
              "          docLink.innerHTML = docLinkHtml;\n",
              "          element.appendChild(docLink);\n",
              "        }\n",
              "      </script>\n",
              "    </div>\n",
              "  </div>\n",
              "  "
            ]
          },
          "metadata": {},
          "execution_count": 8
        }
      ],
      "source": [
        "df_EURUSD = df_EURUSD[df_EURUSD.CLOSE != \".\"]\n",
        "print(df_EURUSD.shape)\n",
        "df_EURUSD.head(20)"
      ]
    },
    {
      "cell_type": "code",
      "execution_count": 9,
      "metadata": {
        "colab": {
          "base_uri": "https://localhost:8080/",
          "height": 175
        },
        "id": "0Z2ixWH4hUn1",
        "outputId": "ca8adcf1-5031-4ff3-d193-d09df71de21d"
      },
      "outputs": [
        {
          "output_type": "execute_result",
          "data": {
            "text/plain": [
              "       count      mean       std      min       25%       50%       75%  \\\n",
              "HIGH   932.0  1.072236  0.003150  1.06451  1.070298  1.072620  1.074505   \n",
              "LOW    932.0  1.071472  0.003232  1.06275  1.069380  1.071885  1.073547   \n",
              "OPEN   932.0  1.071858  0.003199  1.06284  1.069850  1.072285  1.074012   \n",
              "CLOSE  932.0  1.071858  0.003198  1.06281  1.069835  1.072280  1.074012   \n",
              "\n",
              "           max  \n",
              "HIGH   1.07867  \n",
              "LOW    1.07837  \n",
              "OPEN   1.07862  \n",
              "CLOSE  1.07865  "
            ],
            "text/html": [
              "\n",
              "  <div id=\"df-4d4d0393-6922-4ff9-8759-6351130d3352\">\n",
              "    <div class=\"colab-df-container\">\n",
              "      <div>\n",
              "<style scoped>\n",
              "    .dataframe tbody tr th:only-of-type {\n",
              "        vertical-align: middle;\n",
              "    }\n",
              "\n",
              "    .dataframe tbody tr th {\n",
              "        vertical-align: top;\n",
              "    }\n",
              "\n",
              "    .dataframe thead th {\n",
              "        text-align: right;\n",
              "    }\n",
              "</style>\n",
              "<table border=\"1\" class=\"dataframe\">\n",
              "  <thead>\n",
              "    <tr style=\"text-align: right;\">\n",
              "      <th></th>\n",
              "      <th>count</th>\n",
              "      <th>mean</th>\n",
              "      <th>std</th>\n",
              "      <th>min</th>\n",
              "      <th>25%</th>\n",
              "      <th>50%</th>\n",
              "      <th>75%</th>\n",
              "      <th>max</th>\n",
              "    </tr>\n",
              "  </thead>\n",
              "  <tbody>\n",
              "    <tr>\n",
              "      <th>HIGH</th>\n",
              "      <td>932.0</td>\n",
              "      <td>1.072236</td>\n",
              "      <td>0.003150</td>\n",
              "      <td>1.06451</td>\n",
              "      <td>1.070298</td>\n",
              "      <td>1.072620</td>\n",
              "      <td>1.074505</td>\n",
              "      <td>1.07867</td>\n",
              "    </tr>\n",
              "    <tr>\n",
              "      <th>LOW</th>\n",
              "      <td>932.0</td>\n",
              "      <td>1.071472</td>\n",
              "      <td>0.003232</td>\n",
              "      <td>1.06275</td>\n",
              "      <td>1.069380</td>\n",
              "      <td>1.071885</td>\n",
              "      <td>1.073547</td>\n",
              "      <td>1.07837</td>\n",
              "    </tr>\n",
              "    <tr>\n",
              "      <th>OPEN</th>\n",
              "      <td>932.0</td>\n",
              "      <td>1.071858</td>\n",
              "      <td>0.003199</td>\n",
              "      <td>1.06284</td>\n",
              "      <td>1.069850</td>\n",
              "      <td>1.072285</td>\n",
              "      <td>1.074012</td>\n",
              "      <td>1.07862</td>\n",
              "    </tr>\n",
              "    <tr>\n",
              "      <th>CLOSE</th>\n",
              "      <td>932.0</td>\n",
              "      <td>1.071858</td>\n",
              "      <td>0.003198</td>\n",
              "      <td>1.06281</td>\n",
              "      <td>1.069835</td>\n",
              "      <td>1.072280</td>\n",
              "      <td>1.074012</td>\n",
              "      <td>1.07865</td>\n",
              "    </tr>\n",
              "  </tbody>\n",
              "</table>\n",
              "</div>\n",
              "      <button class=\"colab-df-convert\" onclick=\"convertToInteractive('df-4d4d0393-6922-4ff9-8759-6351130d3352')\"\n",
              "              title=\"Convert this dataframe to an interactive table.\"\n",
              "              style=\"display:none;\">\n",
              "        \n",
              "  <svg xmlns=\"http://www.w3.org/2000/svg\" height=\"24px\"viewBox=\"0 0 24 24\"\n",
              "       width=\"24px\">\n",
              "    <path d=\"M0 0h24v24H0V0z\" fill=\"none\"/>\n",
              "    <path d=\"M18.56 5.44l.94 2.06.94-2.06 2.06-.94-2.06-.94-.94-2.06-.94 2.06-2.06.94zm-11 1L8.5 8.5l.94-2.06 2.06-.94-2.06-.94L8.5 2.5l-.94 2.06-2.06.94zm10 10l.94 2.06.94-2.06 2.06-.94-2.06-.94-.94-2.06-.94 2.06-2.06.94z\"/><path d=\"M17.41 7.96l-1.37-1.37c-.4-.4-.92-.59-1.43-.59-.52 0-1.04.2-1.43.59L10.3 9.45l-7.72 7.72c-.78.78-.78 2.05 0 2.83L4 21.41c.39.39.9.59 1.41.59.51 0 1.02-.2 1.41-.59l7.78-7.78 2.81-2.81c.8-.78.8-2.07 0-2.86zM5.41 20L4 18.59l7.72-7.72 1.47 1.35L5.41 20z\"/>\n",
              "  </svg>\n",
              "      </button>\n",
              "      \n",
              "  <style>\n",
              "    .colab-df-container {\n",
              "      display:flex;\n",
              "      flex-wrap:wrap;\n",
              "      gap: 12px;\n",
              "    }\n",
              "\n",
              "    .colab-df-convert {\n",
              "      background-color: #E8F0FE;\n",
              "      border: none;\n",
              "      border-radius: 50%;\n",
              "      cursor: pointer;\n",
              "      display: none;\n",
              "      fill: #1967D2;\n",
              "      height: 32px;\n",
              "      padding: 0 0 0 0;\n",
              "      width: 32px;\n",
              "    }\n",
              "\n",
              "    .colab-df-convert:hover {\n",
              "      background-color: #E2EBFA;\n",
              "      box-shadow: 0px 1px 2px rgba(60, 64, 67, 0.3), 0px 1px 3px 1px rgba(60, 64, 67, 0.15);\n",
              "      fill: #174EA6;\n",
              "    }\n",
              "\n",
              "    [theme=dark] .colab-df-convert {\n",
              "      background-color: #3B4455;\n",
              "      fill: #D2E3FC;\n",
              "    }\n",
              "\n",
              "    [theme=dark] .colab-df-convert:hover {\n",
              "      background-color: #434B5C;\n",
              "      box-shadow: 0px 1px 3px 1px rgba(0, 0, 0, 0.15);\n",
              "      filter: drop-shadow(0px 1px 2px rgba(0, 0, 0, 0.3));\n",
              "      fill: #FFFFFF;\n",
              "    }\n",
              "  </style>\n",
              "\n",
              "      <script>\n",
              "        const buttonEl =\n",
              "          document.querySelector('#df-4d4d0393-6922-4ff9-8759-6351130d3352 button.colab-df-convert');\n",
              "        buttonEl.style.display =\n",
              "          google.colab.kernel.accessAllowed ? 'block' : 'none';\n",
              "\n",
              "        async function convertToInteractive(key) {\n",
              "          const element = document.querySelector('#df-4d4d0393-6922-4ff9-8759-6351130d3352');\n",
              "          const dataTable =\n",
              "            await google.colab.kernel.invokeFunction('convertToInteractive',\n",
              "                                                     [key], {});\n",
              "          if (!dataTable) return;\n",
              "\n",
              "          const docLinkHtml = 'Like what you see? Visit the ' +\n",
              "            '<a target=\"_blank\" href=https://colab.research.google.com/notebooks/data_table.ipynb>data table notebook</a>'\n",
              "            + ' to learn more about interactive tables.';\n",
              "          element.innerHTML = '';\n",
              "          dataTable['output_type'] = 'display_data';\n",
              "          await google.colab.output.renderOutput(dataTable, element);\n",
              "          const docLink = document.createElement('div');\n",
              "          docLink.innerHTML = docLinkHtml;\n",
              "          element.appendChild(docLink);\n",
              "        }\n",
              "      </script>\n",
              "    </div>\n",
              "  </div>\n",
              "  "
            ]
          },
          "metadata": {},
          "execution_count": 9
        }
      ],
      "source": [
        "df_EURUSD.describe().transpose()"
      ]
    },
    {
      "cell_type": "code",
      "execution_count": 10,
      "metadata": {
        "colab": {
          "base_uri": "https://localhost:8080/",
          "height": 295
        },
        "id": "oQlW4-PL5vkD",
        "outputId": "26595170-2278-4528-fca8-ed7a2211db80"
      },
      "outputs": [
        {
          "output_type": "display_data",
          "data": {
            "text/plain": [
              "<Figure size 432x288 with 1 Axes>"
            ],
            "image/png": "[encoded data removed]"
          },
          "metadata": {
            "needs_background": "light"
          }
        }
      ],
      "source": [
        "import matplotlib.pyplot as plt\n",
        "df_EURUSD_plot = df_EURUSD.iloc[:,1:2].values.astype(float)\n",
        "# Visualising the Data\n",
        "plt.plot(df_EURUSD.CLOSE, color = 'red', label = 'EUR/USD')\n",
        "plt.title('EUR/USD Historical Data')\n",
        "plt.xlabel('Time (15 min)')\n",
        "plt.ylabel('EUR/USD')\n",
        "plt.legend()\n",
        "plt.show()"
      ]
    },
    {
      "cell_type": "code",
      "execution_count": 11,
      "metadata": {
        "id": "BlQINAHL5yO_"
      },
      "outputs": [],
      "source": [
        "#import packages\n",
        "import numpy as np\n",
        "import pandas as pd\n",
        "from keras.preprocessing import sequence\n",
        "from keras.models import load_model"
      ]
    },
    {
      "cell_type": "code",
      "execution_count": 12,
      "metadata": {
        "id": "8Iq7Tt1F51PN"
      },
      "outputs": [],
      "source": [
        "# defining the batch size and number of epochs\n",
        "# timesteps must be well within the number of entries in the dataset\n",
        "# try reduce the no of epochs at later stage\n",
        "#default parameters to start with:\n",
        "#batch_size = 64\n",
        "#epochs = 10\n",
        "#timesteps = 20\n",
        "\n",
        "batch_size = 10\n",
        "epochs = 300\n",
        "timesteps = 5"
      ]
    },
    {
      "cell_type": "markdown",
      "metadata": {
        "id": "z-biB9wy5921"
      },
      "source": [
        "<h1> Batch-size and trainings-set size </h1>\n",
        "\n",
        "With stateful LSTMs the trainings-set size must be divisible without remainder by the batch-size (modulo = 0)"
      ]
    },
    {
      "cell_type": "code",
      "execution_count": 13,
      "metadata": {
        "id": "z4ownX4L6EST"
      },
      "outputs": [],
      "source": [
        "def get_train_length(dataset, batch_size, test_percent):\n",
        "    # substract test_percent to be excluded from training, reserved for testset\n",
        "    length = len(dataset)\n",
        "    length *= 1 - test_percent\n",
        "    train_length_values = []\n",
        "    for x in range(int(length) - 100,int(length)): \n",
        "        modulo=x%batch_size\n",
        "        if (modulo == 0):\n",
        "            train_length_values.append(x)\n",
        "            print(x)\n",
        "    return (max(train_length_values))"
      ]
    },
    {
      "cell_type": "code",
      "execution_count": 14,
      "metadata": {
        "colab": {
          "base_uri": "https://localhost:8080/"
        },
        "id": "MZ0hTTlQ6RVa",
        "outputId": "6e3897df-39c3-48fd-e5e6-cb14307189ef"
      },
      "outputs": [
        {
          "output_type": "stream",
          "name": "stdout",
          "text": [
            "740\n",
            "750\n",
            "760\n",
            "770\n",
            "780\n",
            "790\n",
            "800\n",
            "810\n",
            "820\n",
            "830\n",
            "830\n"
          ]
        }
      ],
      "source": [
        "length = get_train_length(df_EURUSD, batch_size, 0.1)\n",
        "print(length)"
      ]
    },
    {
      "cell_type": "markdown",
      "metadata": {
        "id": "8qVt1PMGLXPf"
      },
      "source": [
        "If timesteps is 5, the LSTM has learned from 5 timesteps then predicts the next 5 timesteps in the future, the whole sliding window slides one timestep to the right, and the whole procedure restarts. In this case, the timestep = 5, where T-5 = current 15-min window."
      ]
    },
    {
      "cell_type": "code",
      "execution_count": 15,
      "metadata": {
        "colab": {
          "base_uri": "https://localhost:8080/"
        },
        "id": "0k9RKJN46Tdk",
        "outputId": "6a41c806-1dd6-41d7-a044-5df9301d68c9"
      },
      "outputs": [
        {
          "output_type": "execute_result",
          "data": {
            "text/plain": [
              "(840, 1)"
            ]
          },
          "metadata": {},
          "execution_count": 15
        }
      ],
      "source": [
        "#Adding timesteps * 2\n",
        "upper_train = length + timesteps*2\n",
        "df_EURUSD_train = df_EURUSD[0:upper_train]\n",
        "training_set = df_EURUSD_train.iloc[:,1:2].values\n",
        "training_set.shape\n"
      ]
    },
    {
      "cell_type": "code",
      "execution_count": 16,
      "metadata": {
        "colab": {
          "base_uri": "https://localhost:8080/"
        },
        "id": "dDM02EM36W-y",
        "outputId": "90d645a1-9cbc-4a6d-b1ab-1087c03947d2"
      },
      "outputs": [
        {
          "output_type": "execute_result",
          "data": {
            "text/plain": [
              "(840, 1)"
            ]
          },
          "metadata": {},
          "execution_count": 16
        }
      ],
      "source": [
        "# Feature Scaling\n",
        "#scale between 0 and 1. the weights are easier to find.\n",
        "from sklearn.preprocessing import MinMaxScaler\n",
        "sc = MinMaxScaler(feature_range = (0, 1))\n",
        "training_set_scaled = sc.fit_transform(np.float64(training_set))\n",
        "training_set_scaled.shape"
      ]
    },
    {
      "cell_type": "markdown",
      "metadata": {
        "id": "tjfvZ_ppMIXQ"
      },
      "source": [
        "1. Input our data in the form of a 3D array to the LSTM model. \n",
        "2. Create data in 5 timesteps before using numpy to convert it into an array. "
      ]
    },
    {
      "cell_type": "code",
      "execution_count": 17,
      "metadata": {
        "colab": {
          "base_uri": "https://localhost:8080/"
        },
        "id": "mlIAIaDc8iHe",
        "outputId": "e36d19e2-e199-4f6b-8107-e6b8477e0e77"
      },
      "outputs": [
        {
          "output_type": "stream",
          "name": "stdout",
          "text": [
            "835\n",
            "830\n",
            "830\n",
            "[array([0.61723164, 0.63135593, 0.64336158, 0.625     , 0.51765537]), array([0.63135593, 0.64336158, 0.625     , 0.51765537, 0.49646893])]\n",
            "(830, 5)\n",
            "[array([0.49646893, 0.51341808, 0.4950565 , 0.5240113 , 0.49364407]), array([0.51341808, 0.4950565 , 0.5240113 , 0.49364407, 0.47951977])]\n",
            "(830, 5)\n"
          ]
        }
      ],
      "source": [
        "X_train = []\n",
        "y_train = []\n",
        "\n",
        "# Creating a data structure with n timesteps\n",
        "\n",
        "print(length + timesteps)\n",
        "for i in range(timesteps, length + timesteps): \n",
        "    X_train.append(training_set_scaled[i-timesteps:i,0])\n",
        "    y_train.append(training_set_scaled[i:i+timesteps,0])\n",
        "\n",
        "print(len(X_train))\n",
        "print(len(y_train))\n",
        "#create X_train matrix\n",
        "#5 items per array (timestep) \n",
        "print(X_train[0:2])\n",
        "print(np.array(X_train).shape)\n",
        "#create Y_train matrix\n",
        "#5 items per array (timestep) \n",
        "print(y_train[0:2])\n",
        "print(np.array(y_train).shape)"
      ]
    },
    {
      "cell_type": "markdown",
      "metadata": {
        "id": "JSFZLAPnM12J"
      },
      "source": [
        "3.Convert the data into a 3D array with X_train samples, 5 timestamps, and one feature at each step."
      ]
    },
    {
      "cell_type": "code",
      "execution_count": 18,
      "metadata": {
        "colab": {
          "base_uri": "https://localhost:8080/"
        },
        "id": "QNMvVezz8l5G",
        "outputId": "66ec47e7-3cb0-42e1-c3ad-59f09503fdb0"
      },
      "outputs": [
        {
          "output_type": "stream",
          "name": "stdout",
          "text": [
            "(830, 5, 1)\n",
            "(830, 5, 1)\n"
          ]
        }
      ],
      "source": [
        "# Reshaping\n",
        "X_train, y_train = np.array(X_train), np.array(y_train)\n",
        "X_train = np.reshape(X_train, (X_train.shape[0], X_train.shape[1], 1))\n",
        "y_train = np.reshape(y_train, (y_train.shape[0], y_train.shape[1], 1))\n",
        "print(X_train.shape)\n",
        "print(y_train.shape)"
      ]
    },
    {
      "cell_type": "code",
      "execution_count": 19,
      "metadata": {
        "id": "osTC7uhp8pSn"
      },
      "outputs": [],
      "source": [
        "# Building the LSTM\n",
        "# Importing the Keras libraries and packages\n",
        "\n",
        "from keras.layers import Dense\n",
        "from keras.layers import Input, LSTM\n",
        "from keras.models import Model\n",
        "import h5py"
      ]
    },
    {
      "cell_type": "markdown",
      "metadata": {
        "id": "gsj0RnlLOxO9"
      },
      "source": [
        "The LSTM layer is added with the following arguments: 10 units is the dimensionality of the output space, return_sequences=True is necessary for stacking LSTM layers so the consequent LSTM layer has a three-dimensional sequence input, and input_1_mae is the shape of the training dataset. Compiled our model using the Adam optimizer and set MAE as loss function. "
      ]
    },
    {
      "cell_type": "code",
      "execution_count": 20,
      "metadata": {
        "colab": {
          "base_uri": "https://localhost:8080/"
        },
        "id": "24pKwn9u8riV",
        "outputId": "c24f1884-fd58-42ac-8dae-ab89dfe47509"
      },
      "outputs": [
        {
          "output_type": "stream",
          "name": "stderr",
          "text": [
            "2022-07-03 06:30:32.828160: E tensorflow/stream_executor/cuda/cuda_driver.cc:271] failed call to cuInit: CUDA_ERROR_NO_DEVICE: no CUDA-capable device is detected\n"
          ]
        },
        {
          "output_type": "stream",
          "name": "stdout",
          "text": [
            "Model: \"model\"\n",
            "_________________________________________________________________\n",
            " Layer (type)                Output Shape              Param #   \n",
            "=================================================================\n",
            " input_1 (InputLayer)        [(10, 5, 1)]              0         \n",
            "                                                                 \n",
            " lstm (LSTM)                 (10, 5, 10)               480       \n",
            "                                                                 \n",
            " lstm_1 (LSTM)               (10, 5, 10)               840       \n",
            "                                                                 \n",
            " dense (Dense)               (10, 5, 1)                11        \n",
            "                                                                 \n",
            "=================================================================\n",
            "Total params: 1,331\n",
            "Trainable params: 1,331\n",
            "Non-trainable params: 0\n",
            "_________________________________________________________________\n"
          ]
        }
      ],
      "source": [
        "# Initialising the LSTM Model with MAE Loss-Function\n",
        "# Using Functional API\n",
        "\n",
        "inputs_1_mae = Input(batch_shape=(batch_size,timesteps,1))\n",
        "#each layer is the input of the next layer\n",
        "lstm_1_mae = LSTM(10, stateful=True, return_sequences=True)(inputs_1_mae)\n",
        "lstm_2_mae = LSTM(10, stateful=True, return_sequences=True)(lstm_1_mae)\n",
        "\n",
        "output_1_mae = Dense(units = 1)(lstm_2_mae)\n",
        "\n",
        "regressor_mae = Model(inputs=inputs_1_mae, outputs = output_1_mae)\n",
        "\n",
        "#adam is fast starting off and then gets slower and more precise\n",
        "#mae -> mean absolute error loss function\n",
        "regressor_mae.compile(optimizer='adam', loss = 'mae')\n",
        "regressor_mae.summary()"
      ]
    },
    {
      "cell_type": "code",
      "execution_count": 21,
      "metadata": {
        "id": "c6L2uBl08y2R"
      },
      "outputs": [],
      "source": [
        "import tensorflow as tf\n",
        "from keras import backend as K\n",
        "\n",
        "K.set_session(K.tf.compat.v1.Session(config=K.tf.compat.v1.ConfigProto(intra_op_parallelism_threads=1, inter_op_parallelism_threads=1)))"
      ]
    },
    {
      "cell_type": "markdown",
      "metadata": {
        "id": "A7tlTHNP894l"
      },
      "source": [
        "To decide how to handle the memory each LSTM Cell has :\n",
        "\n",
        "input (what to let in),\n",
        "forget (what to forget) and\n",
        "output (what to write to the output) LSTM Cell State is its memory LSTM Hidden State is equivalent to the Cell output: lstm_hidden_state_size (number of neurons = memory cells) = lstm_outputs_size Parameters:\n",
        "weights for the inputs (lstm_inputs_size)\n",
        "weights for the outputs (lstm_outputs_size)\n",
        "bias variable Result from previous point - for all 3 Gates and for Cell State ( = 4)\n",
        "\n",
        "\\begin{equation}\n",
        "\\textbf{PARAMETERS} = \\textbf4 \\times \\textbf{ LSTM outputs size} \\times (\\textbf{weights LSTM inputs size} + \\textbf{weights LSTM outputs size} + 1 \\textbf{ bias variable}) \\end{equation}"
      ]
    },
    {
      "cell_type": "code",
      "execution_count": 22,
      "metadata": {
        "colab": {
          "base_uri": "https://localhost:8080/"
        },
        "id": "z4tQYcoJ82CJ",
        "outputId": "60fc10cb-0054-495e-fde0-83d42b732e27"
      },
      "outputs": [
        {
          "output_type": "stream",
          "name": "stdout",
          "text": [
            "480\n"
          ]
        }
      ],
      "source": [
        "# 1st LSTM Layer\n",
        "parameters = 4 * 10 * (1 + 10 + 1)\n",
        "print(parameters)"
      ]
    },
    {
      "cell_type": "code",
      "execution_count": 23,
      "metadata": {
        "colab": {
          "base_uri": "https://localhost:8080/"
        },
        "id": "9t80xb7-9KqN",
        "outputId": "8deb77b8-b3f9-49c5-ecc2-13055d93bcab"
      },
      "outputs": [
        {
          "output_type": "stream",
          "name": "stdout",
          "text": [
            "840\n"
          ]
        }
      ],
      "source": [
        "parameters = 4 * 10 * (10 + 10 + 1)\n",
        "print(parameters)"
      ]
    },
    {
      "cell_type": "markdown",
      "metadata": {
        "id": "NJKnpeL2QEBi"
      },
      "source": [
        "Fitted the model to run for 300 epochs (the epochs are the number of times the learning algorithm will work through the entire training set) with a batch size of 10."
      ]
    },
    {
      "cell_type": "code",
      "execution_count": 24,
      "metadata": {
        "colab": {
          "base_uri": "https://localhost:8080/"
        },
        "id": "08TeubQR9MsA",
        "outputId": "7b25a255-22b5-4eef-ee52-9f94bba48432"
      },
      "outputs": [
        {
          "output_type": "stream",
          "name": "stdout",
          "text": [
            "Epoch: 0\n",
            "83/83 [==============================] - 4s 4ms/step - loss: 0.1797\n",
            "Epoch: 1\n",
            "83/83 [==============================] - 0s 4ms/step - loss: 0.1579\n",
            "Epoch: 2\n",
            "83/83 [==============================] - 0s 5ms/step - loss: 0.1481\n",
            "Epoch: 3\n",
            "83/83 [==============================] - 0s 4ms/step - loss: 0.1427\n",
            "Epoch: 4\n",
            "83/83 [==============================] - 0s 5ms/step - loss: 0.1343\n",
            "Epoch: 5\n",
            "83/83 [==============================] - 0s 4ms/step - loss: 0.1280\n",
            "Epoch: 6\n",
            "83/83 [==============================] - 0s 5ms/step - loss: 0.1244\n",
            "Epoch: 7\n",
            "83/83 [==============================] - 1s 7ms/step - loss: 0.1188\n",
            "Epoch: 8\n",
            "83/83 [==============================] - 1s 7ms/step - loss: 0.1163\n",
            "Epoch: 9\n",
            "83/83 [==============================] - 1s 8ms/step - loss: 0.1092\n",
            "Epoch: 10\n",
            "83/83 [==============================] - 1s 9ms/step - loss: 0.1092\n",
            "Epoch: 11\n",
            "83/83 [==============================] - 1s 8ms/step - loss: 0.1015\n",
            "Epoch: 12\n",
            "83/83 [==============================] - 1s 7ms/step - loss: 0.1033\n",
            "Epoch: 13\n",
            "83/83 [==============================] - 1s 7ms/step - loss: 0.0976\n",
            "Epoch: 14\n",
            "83/83 [==============================] - 1s 8ms/step - loss: 0.0970\n",
            "Epoch: 15\n",
            "83/83 [==============================] - 1s 7ms/step - loss: 0.0934\n",
            "Epoch: 16\n",
            "83/83 [==============================] - 1s 8ms/step - loss: 0.0921\n",
            "Epoch: 17\n",
            "83/83 [==============================] - 1s 8ms/step - loss: 0.0899\n",
            "Epoch: 18\n",
            "83/83 [==============================] - 1s 7ms/step - loss: 0.0887\n",
            "Epoch: 19\n",
            "83/83 [==============================] - 1s 9ms/step - loss: 0.0877\n",
            "Epoch: 20\n",
            "83/83 [==============================] - 1s 8ms/step - loss: 0.0865\n",
            "Epoch: 21\n",
            "83/83 [==============================] - 1s 9ms/step - loss: 0.0851\n",
            "Epoch: 22\n",
            "83/83 [==============================] - 1s 9ms/step - loss: 0.0843\n",
            "Epoch: 23\n",
            "83/83 [==============================] - 1s 7ms/step - loss: 0.0830\n",
            "Epoch: 24\n",
            "83/83 [==============================] - 1s 8ms/step - loss: 0.0822\n",
            "Epoch: 25\n",
            "83/83 [==============================] - 1s 9ms/step - loss: 0.0813\n",
            "Epoch: 26\n",
            "83/83 [==============================] - 1s 9ms/step - loss: 0.0806\n",
            "Epoch: 27\n",
            "83/83 [==============================] - 1s 7ms/step - loss: 0.0800\n",
            "Epoch: 28\n",
            "83/83 [==============================] - 1s 10ms/step - loss: 0.0790\n",
            "Epoch: 29\n",
            "83/83 [==============================] - 1s 10ms/step - loss: 0.0796\n",
            "Epoch: 30\n",
            "83/83 [==============================] - 1s 8ms/step - loss: 0.0782\n",
            "Epoch: 31\n",
            "83/83 [==============================] - 1s 10ms/step - loss: 0.0782\n",
            "Epoch: 32\n",
            "83/83 [==============================] - 1s 8ms/step - loss: 0.0776\n",
            "Epoch: 33\n",
            "83/83 [==============================] - 1s 7ms/step - loss: 0.0781\n",
            "Epoch: 34\n",
            "83/83 [==============================] - 1s 8ms/step - loss: 0.0761\n",
            "Epoch: 35\n",
            "83/83 [==============================] - 1s 7ms/step - loss: 0.0773\n",
            "Epoch: 36\n",
            "83/83 [==============================] - 1s 8ms/step - loss: 0.0752\n",
            "Epoch: 37\n",
            "83/83 [==============================] - 1s 9ms/step - loss: 0.0766\n",
            "Epoch: 38\n",
            "83/83 [==============================] - 1s 7ms/step - loss: 0.0755\n",
            "Epoch: 39\n",
            "83/83 [==============================] - 1s 8ms/step - loss: 0.0753\n",
            "Epoch: 40\n",
            "83/83 [==============================] - 1s 8ms/step - loss: 0.0751\n",
            "Epoch: 41\n",
            "83/83 [==============================] - 1s 7ms/step - loss: 0.0751\n",
            "Epoch: 42\n",
            "83/83 [==============================] - 1s 8ms/step - loss: 0.0742\n",
            "Epoch: 43\n",
            "83/83 [==============================] - 1s 8ms/step - loss: 0.0746\n",
            "Epoch: 44\n",
            "83/83 [==============================] - 1s 7ms/step - loss: 0.0738\n",
            "Epoch: 45\n",
            "83/83 [==============================] - 1s 8ms/step - loss: 0.0740\n",
            "Epoch: 46\n",
            "83/83 [==============================] - 1s 9ms/step - loss: 0.0737\n",
            "Epoch: 47\n",
            "83/83 [==============================] - 1s 7ms/step - loss: 0.0733\n",
            "Epoch: 48\n",
            "83/83 [==============================] - 1s 6ms/step - loss: 0.0732\n",
            "Epoch: 49\n",
            "83/83 [==============================] - 1s 9ms/step - loss: 0.0728\n",
            "Epoch: 50\n",
            "83/83 [==============================] - 0s 5ms/step - loss: 0.0722\n",
            "Epoch: 51\n",
            "83/83 [==============================] - 0s 5ms/step - loss: 0.0723\n",
            "Epoch: 52\n",
            "83/83 [==============================] - 0s 5ms/step - loss: 0.0720\n",
            "Epoch: 53\n",
            "83/83 [==============================] - 0s 5ms/step - loss: 0.0715\n",
            "Epoch: 54\n",
            "83/83 [==============================] - 0s 5ms/step - loss: 0.0707\n",
            "Epoch: 55\n",
            "83/83 [==============================] - 0s 5ms/step - loss: 0.0712\n",
            "Epoch: 56\n",
            "83/83 [==============================] - 0s 5ms/step - loss: 0.0708\n",
            "Epoch: 57\n",
            "83/83 [==============================] - 0s 5ms/step - loss: 0.0702\n",
            "Epoch: 58\n",
            "83/83 [==============================] - 0s 5ms/step - loss: 0.0699\n",
            "Epoch: 59\n",
            "83/83 [==============================] - 0s 5ms/step - loss: 0.0698\n",
            "Epoch: 60\n",
            "83/83 [==============================] - 0s 5ms/step - loss: 0.0695\n",
            "Epoch: 61\n",
            "83/83 [==============================] - 0s 5ms/step - loss: 0.0693\n",
            "Epoch: 62\n",
            "83/83 [==============================] - 0s 5ms/step - loss: 0.0692\n",
            "Epoch: 63\n",
            "83/83 [==============================] - 0s 5ms/step - loss: 0.0688\n",
            "Epoch: 64\n",
            "83/83 [==============================] - 0s 6ms/step - loss: 0.0687\n",
            "Epoch: 65\n",
            "83/83 [==============================] - 0s 5ms/step - loss: 0.0684\n",
            "Epoch: 66\n",
            "83/83 [==============================] - 0s 5ms/step - loss: 0.0682\n",
            "Epoch: 67\n",
            "83/83 [==============================] - 0s 5ms/step - loss: 0.0678\n",
            "Epoch: 68\n",
            "83/83 [==============================] - 0s 5ms/step - loss: 0.0678\n",
            "Epoch: 69\n",
            "83/83 [==============================] - 0s 5ms/step - loss: 0.0672\n",
            "Epoch: 70\n",
            "83/83 [==============================] - 0s 5ms/step - loss: 0.0674\n",
            "Epoch: 71\n",
            "83/83 [==============================] - 0s 5ms/step - loss: 0.0667\n",
            "Epoch: 72\n",
            "83/83 [==============================] - 0s 5ms/step - loss: 0.0666\n",
            "Epoch: 73\n",
            "83/83 [==============================] - 0s 5ms/step - loss: 0.0669\n",
            "Epoch: 74\n",
            "83/83 [==============================] - 0s 5ms/step - loss: 0.0665\n",
            "Epoch: 75\n",
            "83/83 [==============================] - 0s 5ms/step - loss: 0.0659\n",
            "Epoch: 76\n",
            "83/83 [==============================] - 0s 5ms/step - loss: 0.0659\n",
            "Epoch: 77\n",
            "83/83 [==============================] - 0s 5ms/step - loss: 0.0658\n",
            "Epoch: 78\n",
            "83/83 [==============================] - 0s 5ms/step - loss: 0.0656\n",
            "Epoch: 79\n",
            "83/83 [==============================] - 0s 5ms/step - loss: 0.0655\n",
            "Epoch: 80\n",
            "83/83 [==============================] - 0s 5ms/step - loss: 0.0654\n",
            "Epoch: 81\n",
            "83/83 [==============================] - 0s 5ms/step - loss: 0.0649\n",
            "Epoch: 82\n",
            "83/83 [==============================] - 0s 5ms/step - loss: 0.0647\n",
            "Epoch: 83\n",
            "83/83 [==============================] - 0s 5ms/step - loss: 0.0655\n",
            "Epoch: 84\n",
            "83/83 [==============================] - 0s 5ms/step - loss: 0.0648\n",
            "Epoch: 85\n",
            "83/83 [==============================] - 0s 5ms/step - loss: 0.0642\n",
            "Epoch: 86\n",
            "83/83 [==============================] - 0s 5ms/step - loss: 0.0645\n",
            "Epoch: 87\n",
            "83/83 [==============================] - 0s 5ms/step - loss: 0.0645\n",
            "Epoch: 88\n",
            "83/83 [==============================] - 0s 5ms/step - loss: 0.0644\n",
            "Epoch: 89\n",
            "83/83 [==============================] - 0s 5ms/step - loss: 0.0643\n",
            "Epoch: 90\n",
            "83/83 [==============================] - 0s 5ms/step - loss: 0.0642\n",
            "Epoch: 91\n",
            "83/83 [==============================] - 0s 5ms/step - loss: 0.0641\n",
            "Epoch: 92\n",
            "83/83 [==============================] - 0s 6ms/step - loss: 0.0643\n",
            "Epoch: 93\n",
            "83/83 [==============================] - 0s 5ms/step - loss: 0.0641\n",
            "Epoch: 94\n",
            "83/83 [==============================] - 0s 4ms/step - loss: 0.0642\n",
            "Epoch: 95\n",
            "83/83 [==============================] - 0s 5ms/step - loss: 0.0640\n",
            "Epoch: 96\n",
            "83/83 [==============================] - 0s 5ms/step - loss: 0.0640\n",
            "Epoch: 97\n",
            "83/83 [==============================] - 0s 5ms/step - loss: 0.0640\n",
            "Epoch: 98\n",
            "83/83 [==============================] - 0s 5ms/step - loss: 0.0639\n",
            "Epoch: 99\n",
            "83/83 [==============================] - 0s 5ms/step - loss: 0.0637\n",
            "Epoch: 100\n",
            "83/83 [==============================] - 0s 5ms/step - loss: 0.0638\n",
            "Epoch: 101\n",
            "83/83 [==============================] - 0s 5ms/step - loss: 0.0638\n",
            "Epoch: 102\n",
            "83/83 [==============================] - 0s 5ms/step - loss: 0.0637\n",
            "Epoch: 103\n",
            "83/83 [==============================] - 0s 5ms/step - loss: 0.0638\n",
            "Epoch: 104\n",
            "83/83 [==============================] - 0s 5ms/step - loss: 0.0636\n",
            "Epoch: 105\n",
            "83/83 [==============================] - 0s 5ms/step - loss: 0.0638\n",
            "Epoch: 106\n",
            "83/83 [==============================] - 0s 5ms/step - loss: 0.0634\n",
            "Epoch: 107\n",
            "83/83 [==============================] - 0s 4ms/step - loss: 0.0636\n",
            "Epoch: 108\n",
            "83/83 [==============================] - 0s 5ms/step - loss: 0.0634\n",
            "Epoch: 109\n",
            "83/83 [==============================] - 0s 5ms/step - loss: 0.0634\n",
            "Epoch: 110\n",
            "83/83 [==============================] - 0s 5ms/step - loss: 0.0634\n",
            "Epoch: 111\n",
            "83/83 [==============================] - 0s 5ms/step - loss: 0.0634\n",
            "Epoch: 112\n",
            "83/83 [==============================] - 0s 5ms/step - loss: 0.0634\n",
            "Epoch: 113\n",
            "83/83 [==============================] - 0s 5ms/step - loss: 0.0633\n",
            "Epoch: 114\n",
            "83/83 [==============================] - 0s 5ms/step - loss: 0.0633\n",
            "Epoch: 115\n",
            "83/83 [==============================] - 0s 5ms/step - loss: 0.0630\n",
            "Epoch: 116\n",
            "83/83 [==============================] - 0s 5ms/step - loss: 0.0630\n",
            "Epoch: 117\n",
            "83/83 [==============================] - 0s 5ms/step - loss: 0.0630\n",
            "Epoch: 118\n",
            "83/83 [==============================] - 0s 5ms/step - loss: 0.0630\n",
            "Epoch: 119\n",
            "83/83 [==============================] - 0s 5ms/step - loss: 0.0631\n",
            "Epoch: 120\n",
            "83/83 [==============================] - 0s 5ms/step - loss: 0.0628\n",
            "Epoch: 121\n",
            "83/83 [==============================] - 0s 5ms/step - loss: 0.0632\n",
            "Epoch: 122\n",
            "83/83 [==============================] - 0s 5ms/step - loss: 0.0626\n",
            "Epoch: 123\n",
            "83/83 [==============================] - 0s 5ms/step - loss: 0.0634\n",
            "Epoch: 124\n",
            "83/83 [==============================] - 0s 5ms/step - loss: 0.0627\n",
            "Epoch: 125\n",
            "83/83 [==============================] - 0s 5ms/step - loss: 0.0633\n",
            "Epoch: 126\n",
            "83/83 [==============================] - 0s 5ms/step - loss: 0.0627\n",
            "Epoch: 127\n",
            "83/83 [==============================] - 0s 5ms/step - loss: 0.0632\n",
            "Epoch: 128\n",
            "83/83 [==============================] - 0s 5ms/step - loss: 0.0624\n",
            "Epoch: 129\n",
            "83/83 [==============================] - 0s 5ms/step - loss: 0.0631\n",
            "Epoch: 130\n",
            "83/83 [==============================] - 0s 5ms/step - loss: 0.0630\n",
            "Epoch: 131\n",
            "83/83 [==============================] - 0s 5ms/step - loss: 0.0623\n",
            "Epoch: 132\n",
            "83/83 [==============================] - 0s 5ms/step - loss: 0.0628\n",
            "Epoch: 133\n",
            "83/83 [==============================] - 0s 5ms/step - loss: 0.0629\n",
            "Epoch: 134\n",
            "83/83 [==============================] - 0s 5ms/step - loss: 0.0623\n",
            "Epoch: 135\n",
            "83/83 [==============================] - 0s 5ms/step - loss: 0.0629\n",
            "Epoch: 136\n",
            "83/83 [==============================] - 0s 5ms/step - loss: 0.0629\n",
            "Epoch: 137\n",
            "83/83 [==============================] - 0s 5ms/step - loss: 0.0622\n",
            "Epoch: 138\n",
            "83/83 [==============================] - 0s 5ms/step - loss: 0.0628\n",
            "Epoch: 139\n",
            "83/83 [==============================] - 1s 7ms/step - loss: 0.0622\n",
            "Epoch: 140\n",
            "83/83 [==============================] - 1s 7ms/step - loss: 0.0621\n",
            "Epoch: 141\n",
            "83/83 [==============================] - 0s 5ms/step - loss: 0.0629\n",
            "Epoch: 142\n",
            "83/83 [==============================] - 0s 5ms/step - loss: 0.0621\n",
            "Epoch: 143\n",
            "83/83 [==============================] - 0s 5ms/step - loss: 0.0626\n",
            "Epoch: 144\n",
            "83/83 [==============================] - 0s 5ms/step - loss: 0.0620\n",
            "Epoch: 145\n",
            "83/83 [==============================] - 1s 6ms/step - loss: 0.0621\n",
            "Epoch: 146\n",
            "83/83 [==============================] - 0s 5ms/step - loss: 0.0625\n",
            "Epoch: 147\n",
            "83/83 [==============================] - 0s 5ms/step - loss: 0.0613\n",
            "Epoch: 148\n",
            "83/83 [==============================] - 0s 5ms/step - loss: 0.0625\n",
            "Epoch: 149\n",
            "83/83 [==============================] - 0s 5ms/step - loss: 0.0622\n",
            "Epoch: 150\n",
            "83/83 [==============================] - 0s 5ms/step - loss: 0.0615\n",
            "Epoch: 151\n",
            "83/83 [==============================] - 0s 5ms/step - loss: 0.0618\n",
            "Epoch: 152\n",
            "83/83 [==============================] - 0s 4ms/step - loss: 0.0619\n",
            "Epoch: 153\n",
            "83/83 [==============================] - 0s 5ms/step - loss: 0.0615\n",
            "Epoch: 154\n",
            "83/83 [==============================] - 0s 4ms/step - loss: 0.0616\n",
            "Epoch: 155\n",
            "83/83 [==============================] - 0s 5ms/step - loss: 0.0618\n",
            "Epoch: 156\n",
            "83/83 [==============================] - 0s 5ms/step - loss: 0.0617\n",
            "Epoch: 157\n",
            "83/83 [==============================] - 0s 5ms/step - loss: 0.0611\n",
            "Epoch: 158\n",
            "83/83 [==============================] - 0s 5ms/step - loss: 0.0613\n",
            "Epoch: 159\n",
            "83/83 [==============================] - 0s 5ms/step - loss: 0.0615\n",
            "Epoch: 160\n",
            "83/83 [==============================] - 0s 5ms/step - loss: 0.0614\n",
            "Epoch: 161\n",
            "83/83 [==============================] - 0s 5ms/step - loss: 0.0616\n",
            "Epoch: 162\n",
            "83/83 [==============================] - 0s 5ms/step - loss: 0.0615\n",
            "Epoch: 163\n",
            "83/83 [==============================] - 0s 5ms/step - loss: 0.0616\n",
            "Epoch: 164\n",
            "83/83 [==============================] - 0s 5ms/step - loss: 0.0614\n",
            "Epoch: 165\n",
            "83/83 [==============================] - 0s 5ms/step - loss: 0.0613\n",
            "Epoch: 166\n",
            "83/83 [==============================] - 0s 5ms/step - loss: 0.0611\n",
            "Epoch: 167\n",
            "83/83 [==============================] - 0s 5ms/step - loss: 0.0610\n",
            "Epoch: 168\n",
            "83/83 [==============================] - 0s 5ms/step - loss: 0.0613\n",
            "Epoch: 169\n",
            "83/83 [==============================] - 0s 5ms/step - loss: 0.0612\n",
            "Epoch: 170\n",
            "83/83 [==============================] - 0s 5ms/step - loss: 0.0606\n",
            "Epoch: 171\n",
            "83/83 [==============================] - 0s 5ms/step - loss: 0.0609\n",
            "Epoch: 172\n",
            "83/83 [==============================] - 0s 5ms/step - loss: 0.0604\n",
            "Epoch: 173\n",
            "83/83 [==============================] - 0s 5ms/step - loss: 0.0613\n",
            "Epoch: 174\n",
            "83/83 [==============================] - 0s 5ms/step - loss: 0.0604\n",
            "Epoch: 175\n",
            "83/83 [==============================] - 0s 5ms/step - loss: 0.0606\n",
            "Epoch: 176\n",
            "83/83 [==============================] - 0s 5ms/step - loss: 0.0601\n",
            "Epoch: 177\n",
            "83/83 [==============================] - 0s 5ms/step - loss: 0.0613\n",
            "Epoch: 178\n",
            "83/83 [==============================] - 0s 5ms/step - loss: 0.0598\n",
            "Epoch: 179\n",
            "83/83 [==============================] - 0s 5ms/step - loss: 0.0610\n",
            "Epoch: 180\n",
            "83/83 [==============================] - 0s 5ms/step - loss: 0.0594\n",
            "Epoch: 181\n",
            "83/83 [==============================] - 0s 5ms/step - loss: 0.0610\n",
            "Epoch: 182\n",
            "83/83 [==============================] - 0s 5ms/step - loss: 0.0596\n",
            "Epoch: 183\n",
            "83/83 [==============================] - 0s 5ms/step - loss: 0.0610\n",
            "Epoch: 184\n",
            "83/83 [==============================] - 0s 5ms/step - loss: 0.0595\n",
            "Epoch: 185\n",
            "83/83 [==============================] - 0s 5ms/step - loss: 0.0608\n",
            "Epoch: 186\n",
            "83/83 [==============================] - 0s 5ms/step - loss: 0.0596\n",
            "Epoch: 187\n",
            "83/83 [==============================] - 0s 5ms/step - loss: 0.0608\n",
            "Epoch: 188\n",
            "83/83 [==============================] - 0s 5ms/step - loss: 0.0595\n",
            "Epoch: 189\n",
            "83/83 [==============================] - 0s 5ms/step - loss: 0.0609\n",
            "Epoch: 190\n",
            "83/83 [==============================] - 0s 5ms/step - loss: 0.0595\n",
            "Epoch: 191\n",
            "83/83 [==============================] - 0s 5ms/step - loss: 0.0608\n",
            "Epoch: 192\n",
            "83/83 [==============================] - 0s 5ms/step - loss: 0.0593\n",
            "Epoch: 193\n",
            "83/83 [==============================] - 0s 4ms/step - loss: 0.0608\n",
            "Epoch: 194\n",
            "83/83 [==============================] - 0s 5ms/step - loss: 0.0591\n",
            "Epoch: 195\n",
            "83/83 [==============================] - 0s 4ms/step - loss: 0.0609\n",
            "Epoch: 196\n",
            "83/83 [==============================] - 0s 5ms/step - loss: 0.0592\n",
            "Epoch: 197\n",
            "83/83 [==============================] - 0s 5ms/step - loss: 0.0607\n",
            "Epoch: 198\n",
            "83/83 [==============================] - 0s 5ms/step - loss: 0.0591\n",
            "Epoch: 199\n",
            "83/83 [==============================] - 0s 5ms/step - loss: 0.0607\n",
            "Epoch: 200\n",
            "83/83 [==============================] - 0s 5ms/step - loss: 0.0591\n",
            "Epoch: 201\n",
            "83/83 [==============================] - 1s 10ms/step - loss: 0.0606\n",
            "Epoch: 202\n",
            "83/83 [==============================] - 1s 10ms/step - loss: 0.0591\n",
            "Epoch: 203\n",
            "83/83 [==============================] - 1s 8ms/step - loss: 0.0607\n",
            "Epoch: 204\n",
            "83/83 [==============================] - 1s 7ms/step - loss: 0.0591\n",
            "Epoch: 205\n",
            "83/83 [==============================] - 1s 7ms/step - loss: 0.0604\n",
            "Epoch: 206\n",
            "83/83 [==============================] - 1s 7ms/step - loss: 0.0592\n",
            "Epoch: 207\n",
            "83/83 [==============================] - 1s 9ms/step - loss: 0.0606\n",
            "Epoch: 208\n",
            "83/83 [==============================] - 1s 6ms/step - loss: 0.0592\n",
            "Epoch: 209\n",
            "83/83 [==============================] - 1s 7ms/step - loss: 0.0603\n",
            "Epoch: 210\n",
            "83/83 [==============================] - 1s 8ms/step - loss: 0.0591\n",
            "Epoch: 211\n",
            "83/83 [==============================] - 1s 7ms/step - loss: 0.0604\n",
            "Epoch: 212\n",
            "83/83 [==============================] - 0s 6ms/step - loss: 0.0590\n",
            "Epoch: 213\n",
            "83/83 [==============================] - 1s 9ms/step - loss: 0.0602\n",
            "Epoch: 214\n",
            "83/83 [==============================] - 1s 6ms/step - loss: 0.0589\n",
            "Epoch: 215\n",
            "83/83 [==============================] - 1s 9ms/step - loss: 0.0605\n",
            "Epoch: 216\n",
            "83/83 [==============================] - 1s 7ms/step - loss: 0.0589\n",
            "Epoch: 217\n",
            "83/83 [==============================] - 1s 7ms/step - loss: 0.0602\n",
            "Epoch: 218\n",
            "83/83 [==============================] - 0s 5ms/step - loss: 0.0590\n",
            "Epoch: 219\n",
            "83/83 [==============================] - 1s 7ms/step - loss: 0.0602\n",
            "Epoch: 220\n",
            "83/83 [==============================] - 1s 10ms/step - loss: 0.0591\n",
            "Epoch: 221\n",
            "83/83 [==============================] - 1s 11ms/step - loss: 0.0600\n",
            "Epoch: 222\n",
            "83/83 [==============================] - 0s 6ms/step - loss: 0.0589\n",
            "Epoch: 223\n",
            "83/83 [==============================] - 0s 6ms/step - loss: 0.0601\n",
            "Epoch: 224\n",
            "83/83 [==============================] - 1s 7ms/step - loss: 0.0590\n",
            "Epoch: 225\n",
            "83/83 [==============================] - 0s 6ms/step - loss: 0.0601\n",
            "Epoch: 226\n",
            "83/83 [==============================] - 1s 7ms/step - loss: 0.0590\n",
            "Epoch: 227\n",
            "83/83 [==============================] - 1s 7ms/step - loss: 0.0599\n",
            "Epoch: 228\n",
            "83/83 [==============================] - 1s 7ms/step - loss: 0.0590\n",
            "Epoch: 229\n",
            "83/83 [==============================] - 1s 6ms/step - loss: 0.0598\n",
            "Epoch: 230\n",
            "83/83 [==============================] - 1s 8ms/step - loss: 0.0589\n",
            "Epoch: 231\n",
            "83/83 [==============================] - 1s 7ms/step - loss: 0.0599\n",
            "Epoch: 232\n",
            "83/83 [==============================] - 1s 7ms/step - loss: 0.0588\n",
            "Epoch: 233\n",
            "83/83 [==============================] - 1s 7ms/step - loss: 0.0597\n",
            "Epoch: 234\n",
            "83/83 [==============================] - 1s 7ms/step - loss: 0.0588\n",
            "Epoch: 235\n",
            "83/83 [==============================] - 1s 6ms/step - loss: 0.0599\n",
            "Epoch: 236\n",
            "83/83 [==============================] - 1s 7ms/step - loss: 0.0589\n",
            "Epoch: 237\n",
            "83/83 [==============================] - 1s 7ms/step - loss: 0.0598\n",
            "Epoch: 238\n",
            "83/83 [==============================] - 1s 8ms/step - loss: 0.0588\n",
            "Epoch: 239\n",
            "83/83 [==============================] - 1s 7ms/step - loss: 0.0596\n",
            "Epoch: 240\n",
            "83/83 [==============================] - 1s 9ms/step - loss: 0.0587\n",
            "Epoch: 241\n",
            "83/83 [==============================] - 1s 8ms/step - loss: 0.0598\n",
            "Epoch: 242\n",
            "83/83 [==============================] - 0s 5ms/step - loss: 0.0588\n",
            "Epoch: 243\n",
            "83/83 [==============================] - 0s 5ms/step - loss: 0.0595\n",
            "Epoch: 244\n",
            "83/83 [==============================] - 0s 5ms/step - loss: 0.0587\n",
            "Epoch: 245\n",
            "83/83 [==============================] - 0s 4ms/step - loss: 0.0594\n",
            "Epoch: 246\n",
            "83/83 [==============================] - 0s 5ms/step - loss: 0.0587\n",
            "Epoch: 247\n",
            "83/83 [==============================] - 0s 5ms/step - loss: 0.0599\n",
            "Epoch: 248\n",
            "83/83 [==============================] - 0s 5ms/step - loss: 0.0588\n",
            "Epoch: 249\n",
            "83/83 [==============================] - 0s 5ms/step - loss: 0.0596\n",
            "Epoch: 250\n",
            "83/83 [==============================] - 0s 5ms/step - loss: 0.0588\n",
            "Epoch: 251\n",
            "83/83 [==============================] - 0s 5ms/step - loss: 0.0592\n",
            "Epoch: 252\n",
            "83/83 [==============================] - 0s 5ms/step - loss: 0.0587\n",
            "Epoch: 253\n",
            "83/83 [==============================] - 0s 5ms/step - loss: 0.0592\n",
            "Epoch: 254\n",
            "83/83 [==============================] - 0s 4ms/step - loss: 0.0589\n",
            "Epoch: 255\n",
            "83/83 [==============================] - 0s 5ms/step - loss: 0.0593\n",
            "Epoch: 256\n",
            "83/83 [==============================] - 0s 5ms/step - loss: 0.0589\n",
            "Epoch: 257\n",
            "83/83 [==============================] - 0s 5ms/step - loss: 0.0592\n",
            "Epoch: 258\n",
            "83/83 [==============================] - 0s 5ms/step - loss: 0.0588\n",
            "Epoch: 259\n",
            "83/83 [==============================] - 0s 5ms/step - loss: 0.0591\n",
            "Epoch: 260\n",
            "83/83 [==============================] - 0s 5ms/step - loss: 0.0586\n",
            "Epoch: 261\n",
            "83/83 [==============================] - 0s 5ms/step - loss: 0.0596\n",
            "Epoch: 262\n",
            "83/83 [==============================] - 0s 5ms/step - loss: 0.0585\n",
            "Epoch: 263\n",
            "83/83 [==============================] - 0s 5ms/step - loss: 0.0598\n",
            "Epoch: 264\n",
            "83/83 [==============================] - 0s 5ms/step - loss: 0.0586\n",
            "Epoch: 265\n",
            "83/83 [==============================] - 0s 5ms/step - loss: 0.0595\n",
            "Epoch: 266\n",
            "83/83 [==============================] - 0s 5ms/step - loss: 0.0583\n",
            "Epoch: 267\n",
            "83/83 [==============================] - 0s 5ms/step - loss: 0.0586\n",
            "Epoch: 268\n",
            "83/83 [==============================] - 0s 5ms/step - loss: 0.0586\n",
            "Epoch: 269\n",
            "83/83 [==============================] - 0s 5ms/step - loss: 0.0591\n",
            "Epoch: 270\n",
            "83/83 [==============================] - 0s 5ms/step - loss: 0.0585\n",
            "Epoch: 271\n",
            "83/83 [==============================] - 0s 5ms/step - loss: 0.0595\n",
            "Epoch: 272\n",
            "83/83 [==============================] - 0s 5ms/step - loss: 0.0585\n",
            "Epoch: 273\n",
            "83/83 [==============================] - 0s 5ms/step - loss: 0.0596\n",
            "Epoch: 274\n",
            "83/83 [==============================] - 0s 5ms/step - loss: 0.0584\n",
            "Epoch: 275\n",
            "83/83 [==============================] - 0s 5ms/step - loss: 0.0594\n",
            "Epoch: 276\n",
            "83/83 [==============================] - 0s 5ms/step - loss: 0.0583\n",
            "Epoch: 277\n",
            "83/83 [==============================] - 0s 5ms/step - loss: 0.0587\n",
            "Epoch: 278\n",
            "83/83 [==============================] - 0s 5ms/step - loss: 0.0586\n",
            "Epoch: 279\n",
            "83/83 [==============================] - 0s 4ms/step - loss: 0.0598\n",
            "Epoch: 280\n",
            "83/83 [==============================] - 0s 5ms/step - loss: 0.0582\n",
            "Epoch: 281\n",
            "83/83 [==============================] - 0s 5ms/step - loss: 0.0588\n",
            "Epoch: 282\n",
            "83/83 [==============================] - 0s 5ms/step - loss: 0.0584\n",
            "Epoch: 283\n",
            "83/83 [==============================] - 0s 5ms/step - loss: 0.0585\n",
            "Epoch: 284\n",
            "83/83 [==============================] - 0s 5ms/step - loss: 0.0586\n",
            "Epoch: 285\n",
            "83/83 [==============================] - 0s 5ms/step - loss: 0.0582\n",
            "Epoch: 286\n",
            "83/83 [==============================] - 0s 5ms/step - loss: 0.0590\n",
            "Epoch: 287\n",
            "83/83 [==============================] - 0s 5ms/step - loss: 0.0587\n",
            "Epoch: 288\n",
            "83/83 [==============================] - 0s 5ms/step - loss: 0.0583\n",
            "Epoch: 289\n",
            "83/83 [==============================] - 0s 5ms/step - loss: 0.0584\n",
            "Epoch: 290\n",
            "83/83 [==============================] - 0s 5ms/step - loss: 0.0580\n",
            "Epoch: 291\n",
            "83/83 [==============================] - 0s 5ms/step - loss: 0.0580\n",
            "Epoch: 292\n",
            "83/83 [==============================] - 0s 5ms/step - loss: 0.0592\n",
            "Epoch: 293\n",
            "83/83 [==============================] - 0s 5ms/step - loss: 0.0578\n",
            "Epoch: 294\n",
            "83/83 [==============================] - 0s 5ms/step - loss: 0.0583\n",
            "Epoch: 295\n",
            "83/83 [==============================] - 0s 5ms/step - loss: 0.0578\n",
            "Epoch: 296\n",
            "83/83 [==============================] - 0s 5ms/step - loss: 0.0579\n",
            "Epoch: 297\n",
            "83/83 [==============================] - 0s 5ms/step - loss: 0.0581\n",
            "Epoch: 298\n",
            "83/83 [==============================] - 0s 5ms/step - loss: 0.0579\n",
            "Epoch: 299\n",
            "83/83 [==============================] - 0s 4ms/step - loss: 0.0576\n"
          ]
        }
      ],
      "source": [
        "#Stateful\n",
        "for i in range(epochs):\n",
        "    print(\"Epoch: \" + str(i))\n",
        "    #run through all data but the cell, hidden state are used for the next batch.\n",
        "    regressor_mae.fit(X_train, y_train, shuffle=False, epochs = 1, batch_size = batch_size)\n",
        "    #resets only the states but the weights, cell and hidden are kept.\n",
        "    regressor_mae.reset_states()\n",
        "    \n",
        "#Stateless\n",
        "#between the batches the cell and hidden states are lost.\n",
        "#regressor_mae.fit(X_train, y_train, shuffle=False, epochs = epochs, batch_size = batch_size)"
      ]
    },
    {
      "cell_type": "code",
      "execution_count": 25,
      "metadata": {
        "id": "7f6WDJFk9Q1o"
      },
      "outputs": [],
      "source": [
        "#save model\n",
        "import h5py\n",
        "regressor_mae.save(filepath=\"EURUSD_with_mae_30_ts.h5\")"
      ]
    },
    {
      "cell_type": "code",
      "execution_count": 26,
      "metadata": {
        "id": "zsPumgdo9Wm4"
      },
      "outputs": [],
      "source": [
        "#load model\n",
        "import h5py\n",
        "regressor_mae = load_model(filepath=\"EURUSD_with_mae_30_ts.h5\")"
      ]
    },
    {
      "cell_type": "code",
      "execution_count": 27,
      "metadata": {
        "id": "dSJFcum39YjI"
      },
      "outputs": [],
      "source": [
        "def get_test_length(dataset, batch_size):\n",
        "    \n",
        "    test_length_values = []\n",
        "    for x in range(len(dataset) - 200, len(dataset) - timesteps*2): \n",
        "        modulo=(x-upper_train)%batch_size\n",
        "        if (modulo == 0):\n",
        "            test_length_values.append(x)\n",
        "            print(x)\n",
        "    return (max(test_length_values))"
      ]
    },
    {
      "cell_type": "code",
      "execution_count": 28,
      "metadata": {
        "colab": {
          "base_uri": "https://localhost:8080/"
        },
        "id": "RS1pNhDP9bI0",
        "outputId": "7ae607cc-8080-4491-92fb-8c1e06c9d0fe"
      },
      "outputs": [
        {
          "output_type": "stream",
          "name": "stdout",
          "text": [
            "740\n",
            "750\n",
            "760\n",
            "770\n",
            "780\n",
            "790\n",
            "800\n",
            "810\n",
            "820\n",
            "830\n",
            "840\n",
            "850\n",
            "860\n",
            "870\n",
            "880\n",
            "890\n",
            "900\n",
            "910\n",
            "920\n",
            "920\n",
            "80\n"
          ]
        }
      ],
      "source": [
        "test_length = get_test_length(df_EURUSD, batch_size)\n",
        "print(test_length)\n",
        "upper_test = test_length + timesteps*2\n",
        "testset_length = test_length - upper_train\n",
        "print(testset_length)"
      ]
    },
    {
      "cell_type": "code",
      "execution_count": 29,
      "metadata": {
        "colab": {
          "base_uri": "https://localhost:8080/"
        },
        "id": "-9CgoJMt9dda",
        "outputId": "913f7a63-1b2a-420f-8b71-e46e48432897"
      },
      "outputs": [
        {
          "output_type": "stream",
          "name": "stdout",
          "text": [
            "840 930 932\n"
          ]
        }
      ],
      "source": [
        "print(upper_train, upper_test, len(df_EURUSD))"
      ]
    },
    {
      "cell_type": "code",
      "execution_count": 30,
      "metadata": {
        "id": "5qjArNNh9gC-"
      },
      "outputs": [],
      "source": [
        "# construct test set\n",
        "\n",
        "#subsetting\n",
        "df_EURUSD_test = df_EURUSD[upper_train:upper_test] \n",
        "test_set = df_EURUSD_test.iloc[:,1:2].values\n",
        "\n",
        "#scaling\n",
        "scaled_real_bcg_values_test = sc.fit_transform(np.float64(test_set))\n",
        "\n",
        "#creating input data\n",
        "X_test = []\n",
        "for i in range(timesteps, testset_length + timesteps):\n",
        "    X_test.append(scaled_real_bcg_values_test[i-timesteps:i, 0])\n",
        "X_test = np.array(X_test)\n",
        "\n",
        "#reshaping\n",
        "X_test = np.reshape(X_test, (X_test.shape[0], X_test.shape[1], 1))"
      ]
    },
    {
      "cell_type": "code",
      "execution_count": 31,
      "metadata": {
        "colab": {
          "base_uri": "https://localhost:8080/"
        },
        "id": "lpw4Iol29kjV",
        "outputId": "b4b6abaa-6602-4ff4-9c31-367d99f391a3"
      },
      "outputs": [
        {
          "output_type": "execute_result",
          "data": {
            "text/plain": [
              "(80, 5, 1)"
            ]
          },
          "metadata": {},
          "execution_count": 31
        }
      ],
      "source": [
        "#print(X_test)\n",
        "X_test.shape"
      ]
    },
    {
      "cell_type": "code",
      "execution_count": 32,
      "metadata": {
        "colab": {
          "base_uri": "https://localhost:8080/"
        },
        "id": "jE0cQiYG9mu3",
        "outputId": "cd3765c0-bb41-4a21-9263-1ac1bae01ff2"
      },
      "outputs": [
        {
          "output_type": "stream",
          "name": "stdout",
          "text": [
            "(80, 5, 1)\n",
            "(80, 5)\n",
            "(75, 1)\n"
          ]
        }
      ],
      "source": [
        "#prediction\n",
        "predicted_bcg_values_test_mae = regressor_mae.predict(X_test, batch_size=batch_size)\n",
        "regressor_mae.reset_states()\n",
        "\n",
        "print(predicted_bcg_values_test_mae.shape)\n",
        "\n",
        "#reshaping\n",
        "predicted_bcg_values_test_mae = np.reshape(predicted_bcg_values_test_mae, \n",
        "                                       (predicted_bcg_values_test_mae.shape[0], \n",
        "                                        predicted_bcg_values_test_mae.shape[1]))\n",
        "\n",
        "print(predicted_bcg_values_test_mae.shape)\n",
        "#inverse transform\n",
        "predicted_bcg_values_test_mae = sc.inverse_transform(predicted_bcg_values_test_mae)\n",
        "\n",
        "\n",
        "#creating y_test data\n",
        "y_test = []\n",
        "for j in range(0, testset_length - timesteps):\n",
        "    y_test = np.append(y_test, predicted_bcg_values_test_mae[j, timesteps-1])\n",
        "\n",
        "# reshaping\n",
        "y_test = np.reshape(y_test, (y_test.shape[0], 1))\n",
        "\n",
        "print(y_test.shape)\n",
        "#print(y_test)"
      ]
    },
    {
      "cell_type": "code",
      "execution_count": 33,
      "metadata": {
        "colab": {
          "base_uri": "https://localhost:8080/",
          "height": 295
        },
        "id": "uE8iyNU99pwU",
        "outputId": "fd48e701-fba4-4b31-9d61-ec2efae8b9be"
      },
      "outputs": [
        {
          "output_type": "display_data",
          "data": {
            "text/plain": [
              "<Figure size 432x288 with 1 Axes>"
            ],
            "image/png": "[encoded data removed]"
          },
          "metadata": {
            "needs_background": "light"
          }
        }
      ],
      "source": [
        "# Visualising the results\n",
        "plt.plot(test_set[timesteps:len(y_test)].astype(float), color = 'red', label = 'Real EUR/USD Prices')\n",
        "plt.plot(y_test[0:len(y_test) - timesteps].astype(float), color = 'blue', label = 'Predicted EUR/USD Prices')\n",
        "plt.title('EUR/USD Prediction - MAE')\n",
        "plt.xlabel('Time')\n",
        "plt.ylabel('EUR/USD')\n",
        "plt.legend()\n",
        "plt.show()"
      ]
    },
    {
      "cell_type": "code",
      "execution_count": 34,
      "metadata": {
        "colab": {
          "base_uri": "https://localhost:8080/"
        },
        "id": "HH6ZaA2F9s08",
        "outputId": "b333bd94-cdda-4621-fa46-b5854145f586"
      },
      "outputs": [
        {
          "output_type": "stream",
          "name": "stdout",
          "text": [
            "0.0005743488850686021\n"
          ]
        }
      ],
      "source": [
        "#MSE (mean squared error)\n",
        "import math\n",
        "from sklearn.metrics import mean_squared_error\n",
        "rmse = math.sqrt(mean_squared_error(test_set[timesteps:len(y_test)], y_test[0:len(y_test) - timesteps]))\n",
        "print(rmse)"
      ]
    },
    {
      "cell_type": "code",
      "execution_count": 35,
      "metadata": {
        "colab": {
          "base_uri": "https://localhost:8080/"
        },
        "id": "z0674Tl29vAj",
        "outputId": "05302883-bca7-4e4f-c878-5fd7f7dbb0bb"
      },
      "outputs": [
        {
          "output_type": "stream",
          "name": "stdout",
          "text": [
            "0.00043205480412074375\n"
          ]
        }
      ],
      "source": [
        "#MAE (mean absolute error)\n",
        "from sklearn.metrics import mean_absolute_error\n",
        "mae = mean_absolute_error(test_set[timesteps:len(y_test)], y_test[0:len(y_test) - timesteps])\n",
        "print(mae)"
      ]
    },
    {
      "cell_type": "code",
      "execution_count": 36,
      "metadata": {
        "colab": {
          "base_uri": "https://localhost:8080/"
        },
        "id": "maPjBu8s9xV-",
        "outputId": "0e449b58-a196-41de-855b-56d1b9c3026d"
      },
      "outputs": [
        {
          "output_type": "stream",
          "name": "stdout",
          "text": [
            "Model: \"model_1\"\n",
            "_________________________________________________________________\n",
            " Layer (type)                Output Shape              Param #   \n",
            "=================================================================\n",
            " input_2 (InputLayer)        [(10, 5, 1)]              0         \n",
            "                                                                 \n",
            " lstm_2 (LSTM)               (10, 5, 10)               480       \n",
            "                                                                 \n",
            " lstm_3 (LSTM)               (10, 5, 10)               840       \n",
            "                                                                 \n",
            " dense_1 (Dense)             (10, 5, 1)                11        \n",
            "                                                                 \n",
            "=================================================================\n",
            "Total params: 1,331\n",
            "Trainable params: 1,331\n",
            "Non-trainable params: 0\n",
            "_________________________________________________________________\n"
          ]
        }
      ],
      "source": [
        "# Initialising the LSTM Model with MSE Loss Function\n",
        "\n",
        "inputs_1_mse = Input(batch_shape=(batch_size,timesteps,1))\n",
        "lstm_1_mse = LSTM(10, stateful=True, return_sequences=True)(inputs_1_mse)\n",
        "lstm_2_mse = LSTM(10, stateful=True, return_sequences=True)(lstm_1_mse)\n",
        "\n",
        "output_1_mse = Dense(units = 1)(lstm_2_mse)\n",
        "\n",
        "regressor_mse = Model(inputs=inputs_1_mse, outputs = output_1_mse)\n",
        "\n",
        "#mse -> mean squared error as loss function\n",
        "regressor_mse.compile(optimizer='adam', loss = 'mse')\n",
        "regressor_mse.summary()"
      ]
    },
    {
      "cell_type": "code",
      "execution_count": 37,
      "metadata": {
        "id": "-GcSzXwV9zdy"
      },
      "outputs": [],
      "source": [
        "import tensorflow as tf\n",
        "from keras import backend as K\n",
        "\n",
        "K.set_session(K.tf.compat.v1.Session(config=K.tf.compat.v1.ConfigProto(intra_op_parallelism_threads=1, inter_op_parallelism_threads=1)))"
      ]
    },
    {
      "cell_type": "code",
      "execution_count": 38,
      "metadata": {
        "colab": {
          "base_uri": "https://localhost:8080/"
        },
        "id": "QSerLD3i96wW",
        "outputId": "639453fb-50fc-4514-8176-0dcc6499e0bd"
      },
      "outputs": [
        {
          "output_type": "stream",
          "name": "stdout",
          "text": [
            "Epoch: 0\n",
            "83/83 [==============================] - 4s 5ms/step - loss: 0.0527\n",
            "Epoch: 1\n",
            "83/83 [==============================] - 0s 5ms/step - loss: 0.0344\n",
            "Epoch: 2\n",
            "83/83 [==============================] - 0s 5ms/step - loss: 0.0264\n",
            "Epoch: 3\n",
            "83/83 [==============================] - 0s 4ms/step - loss: 0.0222\n",
            "Epoch: 4\n",
            "83/83 [==============================] - 0s 5ms/step - loss: 0.0194\n",
            "Epoch: 5\n",
            "83/83 [==============================] - 0s 4ms/step - loss: 0.0176\n",
            "Epoch: 6\n",
            "83/83 [==============================] - 0s 5ms/step - loss: 0.0164\n",
            "Epoch: 7\n",
            "83/83 [==============================] - 0s 5ms/step - loss: 0.0156\n",
            "Epoch: 8\n",
            "83/83 [==============================] - 0s 5ms/step - loss: 0.0151\n",
            "Epoch: 9\n",
            "83/83 [==============================] - 0s 5ms/step - loss: 0.0147\n",
            "Epoch: 10\n",
            "83/83 [==============================] - 0s 5ms/step - loss: 0.0144\n",
            "Epoch: 11\n",
            "83/83 [==============================] - 0s 5ms/step - loss: 0.0141\n",
            "Epoch: 12\n",
            "83/83 [==============================] - 0s 5ms/step - loss: 0.0137\n",
            "Epoch: 13\n",
            "83/83 [==============================] - 0s 5ms/step - loss: 0.0134\n",
            "Epoch: 14\n",
            "83/83 [==============================] - 0s 5ms/step - loss: 0.0130\n",
            "Epoch: 15\n",
            "83/83 [==============================] - 0s 5ms/step - loss: 0.0127\n",
            "Epoch: 16\n",
            "83/83 [==============================] - 0s 6ms/step - loss: 0.0124\n",
            "Epoch: 17\n",
            "83/83 [==============================] - 0s 5ms/step - loss: 0.0121\n",
            "Epoch: 18\n",
            "83/83 [==============================] - 0s 5ms/step - loss: 0.0119\n",
            "Epoch: 19\n",
            "83/83 [==============================] - 0s 5ms/step - loss: 0.0117\n",
            "Epoch: 20\n",
            "83/83 [==============================] - 0s 5ms/step - loss: 0.0115\n",
            "Epoch: 21\n",
            "83/83 [==============================] - 0s 5ms/step - loss: 0.0113\n",
            "Epoch: 22\n",
            "83/83 [==============================] - 0s 5ms/step - loss: 0.0111\n",
            "Epoch: 23\n",
            "83/83 [==============================] - 0s 5ms/step - loss: 0.0110\n",
            "Epoch: 24\n",
            "83/83 [==============================] - 0s 5ms/step - loss: 0.0108\n",
            "Epoch: 25\n",
            "83/83 [==============================] - 0s 5ms/step - loss: 0.0107\n",
            "Epoch: 26\n",
            "83/83 [==============================] - 0s 5ms/step - loss: 0.0105\n",
            "Epoch: 27\n",
            "83/83 [==============================] - 0s 5ms/step - loss: 0.0104\n",
            "Epoch: 28\n",
            "83/83 [==============================] - 0s 5ms/step - loss: 0.0103\n",
            "Epoch: 29\n",
            "83/83 [==============================] - 0s 5ms/step - loss: 0.0102\n",
            "Epoch: 30\n",
            "83/83 [==============================] - 0s 5ms/step - loss: 0.0100\n",
            "Epoch: 31\n",
            "83/83 [==============================] - 0s 5ms/step - loss: 0.0099\n",
            "Epoch: 32\n",
            "83/83 [==============================] - 0s 5ms/step - loss: 0.0098\n",
            "Epoch: 33\n",
            "83/83 [==============================] - 0s 5ms/step - loss: 0.0097\n",
            "Epoch: 34\n",
            "83/83 [==============================] - 0s 5ms/step - loss: 0.0096\n",
            "Epoch: 35\n",
            "83/83 [==============================] - 0s 6ms/step - loss: 0.0095\n",
            "Epoch: 36\n",
            "83/83 [==============================] - 0s 5ms/step - loss: 0.0094\n",
            "Epoch: 37\n",
            "83/83 [==============================] - 0s 5ms/step - loss: 0.0093\n",
            "Epoch: 38\n",
            "83/83 [==============================] - 0s 5ms/step - loss: 0.0092\n",
            "Epoch: 39\n",
            "83/83 [==============================] - 0s 5ms/step - loss: 0.0091\n",
            "Epoch: 40\n",
            "83/83 [==============================] - 0s 5ms/step - loss: 0.0090\n",
            "Epoch: 41\n",
            "83/83 [==============================] - 0s 5ms/step - loss: 0.0089\n",
            "Epoch: 42\n",
            "83/83 [==============================] - 0s 5ms/step - loss: 0.0088\n",
            "Epoch: 43\n",
            "83/83 [==============================] - 0s 5ms/step - loss: 0.0087\n",
            "Epoch: 44\n",
            "83/83 [==============================] - 0s 5ms/step - loss: 0.0086\n",
            "Epoch: 45\n",
            "83/83 [==============================] - 0s 5ms/step - loss: 0.0085\n",
            "Epoch: 46\n",
            "83/83 [==============================] - 0s 5ms/step - loss: 0.0084\n",
            "Epoch: 47\n",
            "83/83 [==============================] - 0s 5ms/step - loss: 0.0083\n",
            "Epoch: 48\n",
            "83/83 [==============================] - 0s 5ms/step - loss: 0.0083\n",
            "Epoch: 49\n",
            "83/83 [==============================] - 0s 5ms/step - loss: 0.0082\n",
            "Epoch: 50\n",
            "83/83 [==============================] - 0s 5ms/step - loss: 0.0081\n",
            "Epoch: 51\n",
            "83/83 [==============================] - 0s 5ms/step - loss: 0.0080\n",
            "Epoch: 52\n",
            "83/83 [==============================] - 0s 5ms/step - loss: 0.0080\n",
            "Epoch: 53\n",
            "83/83 [==============================] - 0s 5ms/step - loss: 0.0079\n",
            "Epoch: 54\n",
            "83/83 [==============================] - 0s 5ms/step - loss: 0.0078\n",
            "Epoch: 55\n",
            "83/83 [==============================] - 0s 5ms/step - loss: 0.0078\n",
            "Epoch: 56\n",
            "83/83 [==============================] - 0s 5ms/step - loss: 0.0077\n",
            "Epoch: 57\n",
            "83/83 [==============================] - 0s 5ms/step - loss: 0.0076\n",
            "Epoch: 58\n",
            "83/83 [==============================] - 0s 5ms/step - loss: 0.0076\n",
            "Epoch: 59\n",
            "83/83 [==============================] - 0s 4ms/step - loss: 0.0075\n",
            "Epoch: 60\n",
            "83/83 [==============================] - 0s 5ms/step - loss: 0.0075\n",
            "Epoch: 61\n",
            "83/83 [==============================] - 0s 5ms/step - loss: 0.0075\n",
            "Epoch: 62\n",
            "83/83 [==============================] - 0s 5ms/step - loss: 0.0074\n",
            "Epoch: 63\n",
            "83/83 [==============================] - 0s 5ms/step - loss: 0.0074\n",
            "Epoch: 64\n",
            "83/83 [==============================] - 0s 5ms/step - loss: 0.0073\n",
            "Epoch: 65\n",
            "83/83 [==============================] - 0s 5ms/step - loss: 0.0073\n",
            "Epoch: 66\n",
            "83/83 [==============================] - 0s 4ms/step - loss: 0.0073\n",
            "Epoch: 67\n",
            "83/83 [==============================] - 0s 5ms/step - loss: 0.0073\n",
            "Epoch: 68\n",
            "83/83 [==============================] - 0s 5ms/step - loss: 0.0072\n",
            "Epoch: 69\n",
            "83/83 [==============================] - 0s 5ms/step - loss: 0.0072\n",
            "Epoch: 70\n",
            "83/83 [==============================] - 0s 5ms/step - loss: 0.0072\n",
            "Epoch: 71\n",
            "83/83 [==============================] - 0s 5ms/step - loss: 0.0072\n",
            "Epoch: 72\n",
            "83/83 [==============================] - 0s 5ms/step - loss: 0.0072\n",
            "Epoch: 73\n",
            "83/83 [==============================] - 0s 5ms/step - loss: 0.0072\n",
            "Epoch: 74\n",
            "83/83 [==============================] - 0s 4ms/step - loss: 0.0071\n",
            "Epoch: 75\n",
            "83/83 [==============================] - 0s 5ms/step - loss: 0.0071\n",
            "Epoch: 76\n",
            "83/83 [==============================] - 0s 5ms/step - loss: 0.0071\n",
            "Epoch: 77\n",
            "83/83 [==============================] - 0s 5ms/step - loss: 0.0071\n",
            "Epoch: 78\n",
            "83/83 [==============================] - 0s 5ms/step - loss: 0.0071\n",
            "Epoch: 79\n",
            "83/83 [==============================] - 0s 5ms/step - loss: 0.0071\n",
            "Epoch: 80\n",
            "83/83 [==============================] - 0s 4ms/step - loss: 0.0071\n",
            "Epoch: 81\n",
            "83/83 [==============================] - 0s 5ms/step - loss: 0.0071\n",
            "Epoch: 82\n",
            "83/83 [==============================] - 0s 5ms/step - loss: 0.0071\n",
            "Epoch: 83\n",
            "83/83 [==============================] - 0s 5ms/step - loss: 0.0071\n",
            "Epoch: 84\n",
            "83/83 [==============================] - 0s 5ms/step - loss: 0.0070\n",
            "Epoch: 85\n",
            "83/83 [==============================] - 0s 5ms/step - loss: 0.0070\n",
            "Epoch: 86\n",
            "83/83 [==============================] - 0s 5ms/step - loss: 0.0070\n",
            "Epoch: 87\n",
            "83/83 [==============================] - 0s 5ms/step - loss: 0.0070\n",
            "Epoch: 88\n",
            "83/83 [==============================] - 0s 5ms/step - loss: 0.0070\n",
            "Epoch: 89\n",
            "83/83 [==============================] - 0s 5ms/step - loss: 0.0070\n",
            "Epoch: 90\n",
            "83/83 [==============================] - 0s 5ms/step - loss: 0.0070\n",
            "Epoch: 91\n",
            "83/83 [==============================] - 0s 5ms/step - loss: 0.0070\n",
            "Epoch: 92\n",
            "83/83 [==============================] - 0s 5ms/step - loss: 0.0070\n",
            "Epoch: 93\n",
            "83/83 [==============================] - 0s 5ms/step - loss: 0.0070\n",
            "Epoch: 94\n",
            "83/83 [==============================] - 0s 5ms/step - loss: 0.0070\n",
            "Epoch: 95\n",
            "83/83 [==============================] - 0s 5ms/step - loss: 0.0070\n",
            "Epoch: 96\n",
            "83/83 [==============================] - 0s 5ms/step - loss: 0.0070\n",
            "Epoch: 97\n",
            "83/83 [==============================] - 0s 5ms/step - loss: 0.0070\n",
            "Epoch: 98\n",
            "83/83 [==============================] - 0s 5ms/step - loss: 0.0069\n",
            "Epoch: 99\n",
            "83/83 [==============================] - 0s 5ms/step - loss: 0.0069\n",
            "Epoch: 100\n",
            "83/83 [==============================] - 0s 5ms/step - loss: 0.0069\n",
            "Epoch: 101\n",
            "83/83 [==============================] - 0s 5ms/step - loss: 0.0069\n",
            "Epoch: 102\n",
            "83/83 [==============================] - 0s 5ms/step - loss: 0.0069\n",
            "Epoch: 103\n",
            "83/83 [==============================] - 0s 5ms/step - loss: 0.0069\n",
            "Epoch: 104\n",
            "83/83 [==============================] - 0s 5ms/step - loss: 0.0069\n",
            "Epoch: 105\n",
            "83/83 [==============================] - 0s 5ms/step - loss: 0.0069\n",
            "Epoch: 106\n",
            "83/83 [==============================] - 0s 5ms/step - loss: 0.0069\n",
            "Epoch: 107\n",
            "83/83 [==============================] - 0s 5ms/step - loss: 0.0069\n",
            "Epoch: 108\n",
            "83/83 [==============================] - 0s 5ms/step - loss: 0.0069\n",
            "Epoch: 109\n",
            "83/83 [==============================] - 0s 5ms/step - loss: 0.0069\n",
            "Epoch: 110\n",
            "83/83 [==============================] - 0s 5ms/step - loss: 0.0069\n",
            "Epoch: 111\n",
            "83/83 [==============================] - 0s 5ms/step - loss: 0.0069\n",
            "Epoch: 112\n",
            "83/83 [==============================] - 0s 5ms/step - loss: 0.0068\n",
            "Epoch: 113\n",
            "83/83 [==============================] - 0s 5ms/step - loss: 0.0068\n",
            "Epoch: 114\n",
            "83/83 [==============================] - 0s 5ms/step - loss: 0.0068\n",
            "Epoch: 115\n",
            "83/83 [==============================] - 0s 5ms/step - loss: 0.0068\n",
            "Epoch: 116\n",
            "83/83 [==============================] - 0s 5ms/step - loss: 0.0068\n",
            "Epoch: 117\n",
            "83/83 [==============================] - 0s 5ms/step - loss: 0.0068\n",
            "Epoch: 118\n",
            "83/83 [==============================] - 0s 5ms/step - loss: 0.0068\n",
            "Epoch: 119\n",
            "83/83 [==============================] - 0s 5ms/step - loss: 0.0068\n",
            "Epoch: 120\n",
            "83/83 [==============================] - 0s 5ms/step - loss: 0.0068\n",
            "Epoch: 121\n",
            "83/83 [==============================] - 1s 6ms/step - loss: 0.0068\n",
            "Epoch: 122\n",
            "83/83 [==============================] - 1s 10ms/step - loss: 0.0068\n",
            "Epoch: 123\n",
            "83/83 [==============================] - 0s 4ms/step - loss: 0.0067\n",
            "Epoch: 124\n",
            "83/83 [==============================] - 0s 5ms/step - loss: 0.0067\n",
            "Epoch: 125\n",
            "83/83 [==============================] - 0s 5ms/step - loss: 0.0067\n",
            "Epoch: 126\n",
            "83/83 [==============================] - 0s 5ms/step - loss: 0.0067\n",
            "Epoch: 127\n",
            "83/83 [==============================] - 0s 5ms/step - loss: 0.0067\n",
            "Epoch: 128\n",
            "83/83 [==============================] - 0s 5ms/step - loss: 0.0067\n",
            "Epoch: 129\n",
            "83/83 [==============================] - 0s 5ms/step - loss: 0.0067\n",
            "Epoch: 130\n",
            "83/83 [==============================] - 0s 5ms/step - loss: 0.0067\n",
            "Epoch: 131\n",
            "83/83 [==============================] - 0s 5ms/step - loss: 0.0066\n",
            "Epoch: 132\n",
            "83/83 [==============================] - 0s 5ms/step - loss: 0.0066\n",
            "Epoch: 133\n",
            "83/83 [==============================] - 0s 5ms/step - loss: 0.0066\n",
            "Epoch: 134\n",
            "83/83 [==============================] - 0s 5ms/step - loss: 0.0066\n",
            "Epoch: 135\n",
            "83/83 [==============================] - 0s 5ms/step - loss: 0.0066\n",
            "Epoch: 136\n",
            "83/83 [==============================] - 1s 9ms/step - loss: 0.0066\n",
            "Epoch: 137\n",
            "83/83 [==============================] - 1s 9ms/step - loss: 0.0065\n",
            "Epoch: 138\n",
            "83/83 [==============================] - 1s 8ms/step - loss: 0.0065\n",
            "Epoch: 139\n",
            "83/83 [==============================] - 1s 8ms/step - loss: 0.0065\n",
            "Epoch: 140\n",
            "83/83 [==============================] - 1s 8ms/step - loss: 0.0065\n",
            "Epoch: 141\n",
            "83/83 [==============================] - 1s 7ms/step - loss: 0.0065\n",
            "Epoch: 142\n",
            "83/83 [==============================] - 1s 7ms/step - loss: 0.0065\n",
            "Epoch: 143\n",
            "83/83 [==============================] - 1s 8ms/step - loss: 0.0065\n",
            "Epoch: 144\n",
            "83/83 [==============================] - 1s 7ms/step - loss: 0.0065\n",
            "Epoch: 145\n",
            "83/83 [==============================] - 1s 8ms/step - loss: 0.0065\n",
            "Epoch: 146\n",
            "83/83 [==============================] - 1s 8ms/step - loss: 0.0065\n",
            "Epoch: 147\n",
            "83/83 [==============================] - 1s 9ms/step - loss: 0.0065\n",
            "Epoch: 148\n",
            "83/83 [==============================] - 1s 10ms/step - loss: 0.0065\n",
            "Epoch: 149\n",
            "83/83 [==============================] - 1s 9ms/step - loss: 0.0065\n",
            "Epoch: 150\n",
            "83/83 [==============================] - 1s 8ms/step - loss: 0.0065\n",
            "Epoch: 151\n",
            "83/83 [==============================] - 1s 9ms/step - loss: 0.0065\n",
            "Epoch: 152\n",
            "83/83 [==============================] - 1s 8ms/step - loss: 0.0065\n",
            "Epoch: 153\n",
            "83/83 [==============================] - 1s 9ms/step - loss: 0.0065\n",
            "Epoch: 154\n",
            "83/83 [==============================] - 1s 9ms/step - loss: 0.0065\n",
            "Epoch: 155\n",
            "83/83 [==============================] - 1s 8ms/step - loss: 0.0065\n",
            "Epoch: 156\n",
            "83/83 [==============================] - 1s 7ms/step - loss: 0.0065\n",
            "Epoch: 157\n",
            "83/83 [==============================] - 1s 8ms/step - loss: 0.0065\n",
            "Epoch: 158\n",
            "83/83 [==============================] - 1s 8ms/step - loss: 0.0065\n",
            "Epoch: 159\n",
            "83/83 [==============================] - 1s 9ms/step - loss: 0.0065\n",
            "Epoch: 160\n",
            "83/83 [==============================] - 1s 10ms/step - loss: 0.0065\n",
            "Epoch: 161\n",
            "83/83 [==============================] - 1s 11ms/step - loss: 0.0065\n",
            "Epoch: 162\n",
            "83/83 [==============================] - 1s 9ms/step - loss: 0.0065\n",
            "Epoch: 163\n",
            "83/83 [==============================] - 1s 8ms/step - loss: 0.0065\n",
            "Epoch: 164\n",
            "83/83 [==============================] - 1s 6ms/step - loss: 0.0065\n",
            "Epoch: 165\n",
            "83/83 [==============================] - 1s 6ms/step - loss: 0.0065\n",
            "Epoch: 166\n",
            "83/83 [==============================] - 1s 8ms/step - loss: 0.0065\n",
            "Epoch: 167\n",
            "83/83 [==============================] - 1s 9ms/step - loss: 0.0065\n",
            "Epoch: 168\n",
            "83/83 [==============================] - 1s 8ms/step - loss: 0.0065\n",
            "Epoch: 169\n",
            "83/83 [==============================] - 0s 5ms/step - loss: 0.0065\n",
            "Epoch: 170\n",
            "83/83 [==============================] - 0s 5ms/step - loss: 0.0065\n",
            "Epoch: 171\n",
            "83/83 [==============================] - 0s 5ms/step - loss: 0.0064\n",
            "Epoch: 172\n",
            "83/83 [==============================] - 0s 5ms/step - loss: 0.0064\n",
            "Epoch: 173\n",
            "83/83 [==============================] - 0s 5ms/step - loss: 0.0064\n",
            "Epoch: 174\n",
            "83/83 [==============================] - 0s 5ms/step - loss: 0.0064\n",
            "Epoch: 175\n",
            "83/83 [==============================] - 0s 5ms/step - loss: 0.0064\n",
            "Epoch: 176\n",
            "83/83 [==============================] - 0s 5ms/step - loss: 0.0064\n",
            "Epoch: 177\n",
            "83/83 [==============================] - 0s 4ms/step - loss: 0.0064\n",
            "Epoch: 178\n",
            "83/83 [==============================] - 0s 5ms/step - loss: 0.0064\n",
            "Epoch: 179\n",
            "83/83 [==============================] - 0s 5ms/step - loss: 0.0064\n",
            "Epoch: 180\n",
            "83/83 [==============================] - 0s 5ms/step - loss: 0.0064\n",
            "Epoch: 181\n",
            "83/83 [==============================] - 0s 5ms/step - loss: 0.0064\n",
            "Epoch: 182\n",
            "83/83 [==============================] - 0s 4ms/step - loss: 0.0064\n",
            "Epoch: 183\n",
            "83/83 [==============================] - 0s 5ms/step - loss: 0.0064\n",
            "Epoch: 184\n",
            "83/83 [==============================] - 0s 5ms/step - loss: 0.0064\n",
            "Epoch: 185\n",
            "83/83 [==============================] - 0s 5ms/step - loss: 0.0063\n",
            "Epoch: 186\n",
            "83/83 [==============================] - 0s 5ms/step - loss: 0.0063\n",
            "Epoch: 187\n",
            "83/83 [==============================] - 0s 5ms/step - loss: 0.0063\n",
            "Epoch: 188\n",
            "83/83 [==============================] - 0s 4ms/step - loss: 0.0063\n",
            "Epoch: 189\n",
            "83/83 [==============================] - 0s 5ms/step - loss: 0.0063\n",
            "Epoch: 190\n",
            "83/83 [==============================] - 0s 5ms/step - loss: 0.0063\n",
            "Epoch: 191\n",
            "83/83 [==============================] - 0s 5ms/step - loss: 0.0063\n",
            "Epoch: 192\n",
            "83/83 [==============================] - 0s 5ms/step - loss: 0.0063\n",
            "Epoch: 193\n",
            "83/83 [==============================] - 0s 5ms/step - loss: 0.0063\n",
            "Epoch: 194\n",
            "83/83 [==============================] - 0s 5ms/step - loss: 0.0063\n",
            "Epoch: 195\n",
            "83/83 [==============================] - 0s 5ms/step - loss: 0.0063\n",
            "Epoch: 196\n",
            "83/83 [==============================] - 0s 5ms/step - loss: 0.0063\n",
            "Epoch: 197\n",
            "83/83 [==============================] - 0s 4ms/step - loss: 0.0063\n",
            "Epoch: 198\n",
            "83/83 [==============================] - 0s 5ms/step - loss: 0.0063\n",
            "Epoch: 199\n",
            "83/83 [==============================] - 0s 5ms/step - loss: 0.0063\n",
            "Epoch: 200\n",
            "83/83 [==============================] - 0s 5ms/step - loss: 0.0063\n",
            "Epoch: 201\n",
            "83/83 [==============================] - 0s 5ms/step - loss: 0.0063\n",
            "Epoch: 202\n",
            "83/83 [==============================] - 0s 4ms/step - loss: 0.0062\n",
            "Epoch: 203\n",
            "83/83 [==============================] - 0s 5ms/step - loss: 0.0062\n",
            "Epoch: 204\n",
            "83/83 [==============================] - 0s 5ms/step - loss: 0.0062\n",
            "Epoch: 205\n",
            "83/83 [==============================] - 0s 5ms/step - loss: 0.0062\n",
            "Epoch: 206\n",
            "83/83 [==============================] - 0s 5ms/step - loss: 0.0062\n",
            "Epoch: 207\n",
            "83/83 [==============================] - 0s 5ms/step - loss: 0.0062\n",
            "Epoch: 208\n",
            "83/83 [==============================] - 0s 5ms/step - loss: 0.0062\n",
            "Epoch: 209\n",
            "83/83 [==============================] - 0s 5ms/step - loss: 0.0062\n",
            "Epoch: 210\n",
            "83/83 [==============================] - 0s 5ms/step - loss: 0.0062\n",
            "Epoch: 211\n",
            "83/83 [==============================] - 0s 5ms/step - loss: 0.0062\n",
            "Epoch: 212\n",
            "83/83 [==============================] - 0s 5ms/step - loss: 0.0062\n",
            "Epoch: 213\n",
            "83/83 [==============================] - 0s 5ms/step - loss: 0.0062\n",
            "Epoch: 214\n",
            "83/83 [==============================] - 0s 5ms/step - loss: 0.0062\n",
            "Epoch: 215\n",
            "83/83 [==============================] - 0s 5ms/step - loss: 0.0062\n",
            "Epoch: 216\n",
            "83/83 [==============================] - 0s 5ms/step - loss: 0.0062\n",
            "Epoch: 217\n",
            "83/83 [==============================] - 0s 5ms/step - loss: 0.0062\n",
            "Epoch: 218\n",
            "83/83 [==============================] - 0s 5ms/step - loss: 0.0062\n",
            "Epoch: 219\n",
            "83/83 [==============================] - 0s 5ms/step - loss: 0.0062\n",
            "Epoch: 220\n",
            "83/83 [==============================] - 0s 4ms/step - loss: 0.0062\n",
            "Epoch: 221\n",
            "83/83 [==============================] - 0s 5ms/step - loss: 0.0062\n",
            "Epoch: 222\n",
            "83/83 [==============================] - 0s 5ms/step - loss: 0.0061\n",
            "Epoch: 223\n",
            "83/83 [==============================] - 0s 5ms/step - loss: 0.0061\n",
            "Epoch: 224\n",
            "83/83 [==============================] - 0s 5ms/step - loss: 0.0061\n",
            "Epoch: 225\n",
            "83/83 [==============================] - 0s 5ms/step - loss: 0.0061\n",
            "Epoch: 226\n",
            "83/83 [==============================] - 0s 5ms/step - loss: 0.0061\n",
            "Epoch: 227\n",
            "83/83 [==============================] - 0s 5ms/step - loss: 0.0061\n",
            "Epoch: 228\n",
            "83/83 [==============================] - 0s 5ms/step - loss: 0.0061\n",
            "Epoch: 229\n",
            "83/83 [==============================] - 0s 5ms/step - loss: 0.0061\n",
            "Epoch: 230\n",
            "83/83 [==============================] - 0s 5ms/step - loss: 0.0061\n",
            "Epoch: 231\n",
            "83/83 [==============================] - 0s 5ms/step - loss: 0.0061\n",
            "Epoch: 232\n",
            "83/83 [==============================] - 0s 5ms/step - loss: 0.0061\n",
            "Epoch: 233\n",
            "83/83 [==============================] - 0s 5ms/step - loss: 0.0061\n",
            "Epoch: 234\n",
            "83/83 [==============================] - 0s 5ms/step - loss: 0.0061\n",
            "Epoch: 235\n",
            "83/83 [==============================] - 0s 5ms/step - loss: 0.0061\n",
            "Epoch: 236\n",
            "83/83 [==============================] - 0s 5ms/step - loss: 0.0061\n",
            "Epoch: 237\n",
            "83/83 [==============================] - 0s 5ms/step - loss: 0.0061\n",
            "Epoch: 238\n",
            "83/83 [==============================] - 0s 5ms/step - loss: 0.0062\n",
            "Epoch: 239\n",
            "83/83 [==============================] - 0s 5ms/step - loss: 0.0062\n",
            "Epoch: 240\n",
            "83/83 [==============================] - 0s 5ms/step - loss: 0.0067\n",
            "Epoch: 241\n",
            "83/83 [==============================] - 0s 5ms/step - loss: 0.0079\n",
            "Epoch: 242\n",
            "83/83 [==============================] - 0s 5ms/step - loss: 0.0067\n",
            "Epoch: 243\n",
            "83/83 [==============================] - 0s 4ms/step - loss: 0.0066\n",
            "Epoch: 244\n",
            "83/83 [==============================] - 0s 5ms/step - loss: 0.0066\n",
            "Epoch: 245\n",
            "83/83 [==============================] - 0s 5ms/step - loss: 0.0065\n",
            "Epoch: 246\n",
            "83/83 [==============================] - 0s 5ms/step - loss: 0.0065\n",
            "Epoch: 247\n",
            "83/83 [==============================] - 0s 5ms/step - loss: 0.0065\n",
            "Epoch: 248\n",
            "83/83 [==============================] - 0s 4ms/step - loss: 0.0064\n",
            "Epoch: 249\n",
            "83/83 [==============================] - 0s 5ms/step - loss: 0.0064\n",
            "Epoch: 250\n",
            "83/83 [==============================] - 0s 4ms/step - loss: 0.0064\n",
            "Epoch: 251\n",
            "83/83 [==============================] - 0s 5ms/step - loss: 0.0064\n",
            "Epoch: 252\n",
            "83/83 [==============================] - 0s 5ms/step - loss: 0.0063\n",
            "Epoch: 253\n",
            "83/83 [==============================] - 0s 5ms/step - loss: 0.0063\n",
            "Epoch: 254\n",
            "83/83 [==============================] - 0s 5ms/step - loss: 0.0063\n",
            "Epoch: 255\n",
            "83/83 [==============================] - 0s 5ms/step - loss: 0.0063\n",
            "Epoch: 256\n",
            "83/83 [==============================] - 0s 5ms/step - loss: 0.0063\n",
            "Epoch: 257\n",
            "83/83 [==============================] - 0s 5ms/step - loss: 0.0063\n",
            "Epoch: 258\n",
            "83/83 [==============================] - 0s 5ms/step - loss: 0.0063\n",
            "Epoch: 259\n",
            "83/83 [==============================] - 0s 5ms/step - loss: 0.0063\n",
            "Epoch: 260\n",
            "83/83 [==============================] - 1s 6ms/step - loss: 0.0062\n",
            "Epoch: 261\n",
            "83/83 [==============================] - 1s 9ms/step - loss: 0.0063\n",
            "Epoch: 262\n",
            "83/83 [==============================] - 1s 17ms/step - loss: 0.0225\n",
            "Epoch: 263\n",
            "83/83 [==============================] - 1s 9ms/step - loss: 0.0086\n",
            "Epoch: 264\n",
            "83/83 [==============================] - 1s 7ms/step - loss: 0.0062\n",
            "Epoch: 265\n",
            "83/83 [==============================] - 1s 8ms/step - loss: 0.0062\n",
            "Epoch: 266\n",
            "83/83 [==============================] - 1s 8ms/step - loss: 0.0062\n",
            "Epoch: 267\n",
            "83/83 [==============================] - 1s 9ms/step - loss: 0.0062\n",
            "Epoch: 268\n",
            "83/83 [==============================] - 1s 8ms/step - loss: 0.0062\n",
            "Epoch: 269\n",
            "83/83 [==============================] - 1s 7ms/step - loss: 0.0062\n",
            "Epoch: 270\n",
            "83/83 [==============================] - 1s 8ms/step - loss: 0.0062\n",
            "Epoch: 271\n",
            "83/83 [==============================] - 1s 7ms/step - loss: 0.0062\n",
            "Epoch: 272\n",
            "83/83 [==============================] - 1s 6ms/step - loss: 0.0062\n",
            "Epoch: 273\n",
            "83/83 [==============================] - 1s 6ms/step - loss: 0.0062\n",
            "Epoch: 274\n",
            "83/83 [==============================] - 0s 6ms/step - loss: 0.0062\n",
            "Epoch: 275\n",
            "83/83 [==============================] - 0s 5ms/step - loss: 0.0062\n",
            "Epoch: 276\n",
            "83/83 [==============================] - 0s 5ms/step - loss: 0.0062\n",
            "Epoch: 277\n",
            "83/83 [==============================] - 0s 5ms/step - loss: 0.0062\n",
            "Epoch: 278\n",
            "83/83 [==============================] - 0s 5ms/step - loss: 0.0062\n",
            "Epoch: 279\n",
            "83/83 [==============================] - 0s 5ms/step - loss: 0.0062\n",
            "Epoch: 280\n",
            "83/83 [==============================] - 0s 5ms/step - loss: 0.0062\n",
            "Epoch: 281\n",
            "83/83 [==============================] - 0s 5ms/step - loss: 0.0188\n",
            "Epoch: 282\n",
            "83/83 [==============================] - 0s 5ms/step - loss: 0.0069\n",
            "Epoch: 283\n",
            "83/83 [==============================] - 0s 5ms/step - loss: 0.0082\n",
            "Epoch: 284\n",
            "83/83 [==============================] - 0s 5ms/step - loss: 0.0060\n",
            "Epoch: 285\n",
            "83/83 [==============================] - 0s 5ms/step - loss: 0.0060\n",
            "Epoch: 286\n",
            "83/83 [==============================] - 0s 5ms/step - loss: 0.0060\n",
            "Epoch: 287\n",
            "83/83 [==============================] - 0s 5ms/step - loss: 0.0060\n",
            "Epoch: 288\n",
            "83/83 [==============================] - 0s 5ms/step - loss: 0.0060\n",
            "Epoch: 289\n",
            "83/83 [==============================] - 0s 5ms/step - loss: 0.0061\n",
            "Epoch: 290\n",
            "83/83 [==============================] - 1s 10ms/step - loss: 0.0061\n",
            "Epoch: 291\n",
            "83/83 [==============================] - 0s 5ms/step - loss: 0.0065\n",
            "Epoch: 292\n",
            "83/83 [==============================] - 0s 5ms/step - loss: 0.0067\n",
            "Epoch: 293\n",
            "83/83 [==============================] - 0s 5ms/step - loss: 0.0069\n",
            "Epoch: 294\n",
            "83/83 [==============================] - 0s 5ms/step - loss: 0.0084\n",
            "Epoch: 295\n",
            "83/83 [==============================] - 0s 5ms/step - loss: 0.0072\n",
            "Epoch: 296\n",
            "83/83 [==============================] - 0s 5ms/step - loss: 0.0062\n",
            "Epoch: 297\n",
            "83/83 [==============================] - 0s 5ms/step - loss: 0.0060\n",
            "Epoch: 298\n",
            "83/83 [==============================] - 0s 5ms/step - loss: 0.0060\n",
            "Epoch: 299\n",
            "83/83 [==============================] - 0s 5ms/step - loss: 0.0060\n"
          ]
        }
      ],
      "source": [
        "epochs = 300\n",
        "for i in range(epochs):\n",
        "    print(\"Epoch: \" + str(i))\n",
        "    regressor_mse.fit(X_train, y_train, shuffle=False, epochs = 1, batch_size = batch_size)\n",
        "    regressor_mse.reset_states()"
      ]
    },
    {
      "cell_type": "code",
      "execution_count": 39,
      "metadata": {
        "id": "TogI3q-r99eK"
      },
      "outputs": [],
      "source": [
        "import h5py\n",
        "regressor_mse.save(filepath=\"EURUSD_with_mse_30_ts.h5\")"
      ]
    },
    {
      "cell_type": "code",
      "execution_count": 40,
      "metadata": {
        "id": "mgmMZMMC-OzH"
      },
      "outputs": [],
      "source": [
        "regressor_mse = load_model(filepath=\"EURUSD_with_mse_30_ts.h5\")"
      ]
    },
    {
      "cell_type": "code",
      "execution_count": 41,
      "metadata": {
        "id": "rZVbLzak-RTq"
      },
      "outputs": [],
      "source": [
        "predicted_bcg_values_test_mse = regressor_mse.predict(X_test, batch_size=batch_size)\n",
        "regressor_mse.reset_states()\n",
        "\n",
        "predicted_bcg_values_test_mse = np.reshape(predicted_bcg_values_test_mse, \n",
        "                                       (predicted_bcg_values_test_mse.shape[0], \n",
        "                                        predicted_bcg_values_test_mse.shape[1]))\n",
        "predicted_bcg_values_test_mse = sc.inverse_transform(predicted_bcg_values_test_mse)\n",
        "\n",
        "pred_mse = []\n",
        "\n",
        "for j in range(0, testset_length - timesteps):\n",
        "    pred_mse = np.append(pred_mse, predicted_bcg_values_test_mse[j, timesteps-1])\n",
        "\n",
        "pred_mse = np.reshape(pred_mse, (pred_mse.shape[0], 1))"
      ]
    },
    {
      "cell_type": "code",
      "execution_count": 42,
      "metadata": {
        "colab": {
          "base_uri": "https://localhost:8080/",
          "height": 295
        },
        "id": "q7WggGBu-Xr0",
        "outputId": "c1c903e6-24d1-4675-9307-733dd6bcb300"
      },
      "outputs": [
        {
          "output_type": "display_data",
          "data": {
            "text/plain": [
              "<Figure size 432x288 with 1 Axes>"
            ],
            "image/png": "[encoded data removed]"
          },
          "metadata": {
            "needs_background": "light"
          }
        }
      ],
      "source": [
        "# Visualising the results\n",
        "plt.plot(test_set[timesteps:len(pred_mse)].astype(float), color = 'red', label = 'Real EUR/USD Prices')\n",
        "plt.plot(pred_mse[0:len(pred_mse) - timesteps], color = 'green', label = 'Predicted EUR/USD with MSE')\n",
        "plt.title('EUR/USD Prediction - MSE')\n",
        "plt.xlabel('Time')\n",
        "plt.ylabel('EUR/USD')\n",
        "plt.legend()\n",
        "plt.show()"
      ]
    },
    {
      "cell_type": "code",
      "execution_count": 43,
      "metadata": {
        "colab": {
          "base_uri": "https://localhost:8080/"
        },
        "id": "SrzZJsfl-Z5F",
        "outputId": "7b91a6c3-a484-4cf2-9b3c-62528bb8b7e1"
      },
      "outputs": [
        {
          "output_type": "stream",
          "name": "stdout",
          "text": [
            "0.000675795513114765\n"
          ]
        }
      ],
      "source": [
        "from sklearn.metrics import mean_squared_error\n",
        "rmse = math.sqrt(mean_squared_error(test_set[timesteps:len(pred_mse)], pred_mse[0:len(pred_mse) - timesteps]))\n",
        "print(rmse)"
      ]
    },
    {
      "cell_type": "code",
      "execution_count": 44,
      "metadata": {
        "colab": {
          "base_uri": "https://localhost:8080/"
        },
        "id": "7C-JCZub-cpv",
        "outputId": "be9390fa-f4e9-48e0-b729-0bffba2467ec"
      },
      "outputs": [
        {
          "output_type": "stream",
          "name": "stdout",
          "text": [
            "1.0722227142857144\n"
          ]
        }
      ],
      "source": [
        "mean = np.mean(np.float64(test_set[timesteps:len(pred_mse)]))\n",
        "print(mean)"
      ]
    },
    {
      "cell_type": "code",
      "execution_count": 45,
      "metadata": {
        "colab": {
          "base_uri": "https://localhost:8080/"
        },
        "id": "6UKOeI7b-fI7",
        "outputId": "959cea22-1f9e-4059-bdaf-46f8586f9aeb"
      },
      "outputs": [
        {
          "output_type": "execute_result",
          "data": {
            "text/plain": [
              "0.0630275318840789"
            ]
          },
          "metadata": {},
          "execution_count": 45
        }
      ],
      "source": [
        "rmse/mean * 100"
      ]
    },
    {
      "cell_type": "code",
      "execution_count": 46,
      "metadata": {
        "colab": {
          "base_uri": "https://localhost:8080/"
        },
        "id": "4jHhDnCz-jVA",
        "outputId": "64125eb3-b51e-4b16-c386-1f157e6bf81a"
      },
      "outputs": [
        {
          "output_type": "stream",
          "name": "stdout",
          "text": [
            "0.0005200830127171097\n"
          ]
        }
      ],
      "source": [
        "from sklearn.metrics import mean_absolute_error\n",
        "mae = mean_absolute_error(test_set[timesteps:len(pred_mse)], pred_mse[0:len(pred_mse) - timesteps])\n",
        "print(mae)"
      ]
    },
    {
      "cell_type": "code",
      "execution_count": 47,
      "metadata": {
        "colab": {
          "base_uri": "https://localhost:8080/"
        },
        "id": "ow5qCkb0-lD4",
        "outputId": "01d0f9e4-d279-4ece-e031-5a7c5fde49d4"
      },
      "outputs": [
        {
          "output_type": "execute_result",
          "data": {
            "text/plain": [
              "0.04850512918517818"
            ]
          },
          "metadata": {},
          "execution_count": 47
        }
      ],
      "source": [
        "mae/mean * 100"
      ]
    },
    {
      "cell_type": "code",
      "execution_count": 48,
      "metadata": {
        "colab": {
          "base_uri": "https://localhost:8080/",
          "height": 295
        },
        "id": "5beXUWWB-m9N",
        "outputId": "481152b8-c625-481c-e8e8-d1b1c778246d"
      },
      "outputs": [
        {
          "output_type": "display_data",
          "data": {
            "text/plain": [
              "<Figure size 432x288 with 1 Axes>"
            ],
            "image/png": "[encoded data removed]"
          },
          "metadata": {
            "needs_background": "light"
          }
        }
      ],
      "source": [
        "import matplotlib.pyplot as plt\n",
        "plt.plot(test_set[timesteps:len(pred_mse)].astype(float), color = 'red', label = 'Real EUR/USD Prices')\n",
        "plt.plot(pred_mse[0:len(pred_mse) - timesteps], color = 'green', label = 'Predicted EUR/USD with MSE')\n",
        "plt.plot(y_test[0:len(y_test) - timesteps].astype(float), color = 'blue', label = 'Predicted EUR/USD with MAE')\n",
        "plt.title('EUR/USD Prediction - MAE v MSE')\n",
        "plt.xlabel('Time')\n",
        "plt.ylabel('EUR/USD')\n",
        "plt.legend()\n",
        "plt.show()"
      ]
    },
    {
      "cell_type": "markdown",
      "metadata": {
        "id": "Jo6aB65WOtyV"
      },
      "source": [
        "## Next: Create and deploy a model endpoint\n"
      ]
    },
    {
      "cell_type": "code",
      "source": [
        "import pickle\n",
        "filename = 'model.pkl'\n",
        "pickle.dump(regressor_mse, open(filename, 'wb'))"
      ],
      "metadata": {
        "colab": {
          "base_uri": "https://localhost:8080/"
        },
        "id": "9sVR9sruwyWT",
        "outputId": "226e99b4-c222-492a-a913-96820de433f6"
      },
      "execution_count": 58,
      "outputs": [
        {
          "output_type": "stream",
          "name": "stderr",
          "text": [
            "2022-07-03 06:37:28.096298: W tensorflow/python/util/util.cc:368] Sets are not currently considered sequences, but this may change in the future, so consider avoiding using them.\n",
            "2022-07-03 06:37:31.728 Found untraced functions such as lstm_cell_6_layer_call_fn, lstm_cell_6_layer_call_and_return_conditional_losses, lstm_cell_7_layer_call_fn, lstm_cell_7_layer_call_and_return_conditional_losses while saving (showing 4 of 4). These functions will not be directly callable after loading.\n"
          ]
        },
        {
          "output_type": "stream",
          "name": "stdout",
          "text": [
            "INFO:tensorflow:Assets written to: ram://434ed5d4-9a70-4f11-93f4-823be4a5b2c1/assets\n"
          ]
        },
        {
          "output_type": "stream",
          "name": "stderr",
          "text": [
            "2022-07-03 06:37:33.033 Assets written to: ram://434ed5d4-9a70-4f11-93f4-823be4a5b2c1/assets\n",
            "2022-07-03 06:37:33.221 <keras.layers.recurrent.LSTMCell object at 0x7f995acc6dd0> has the same name 'LSTMCell' as a built-in Keras object. Consider renaming <class 'keras.layers.recurrent.LSTMCell'> to avoid naming conflicts when loading with `tf.keras.models.load_model`. If renaming is not possible, pass the object in the `custom_objects` parameter of the load function.\n",
            "2022-07-03 06:37:33.223 <keras.layers.recurrent.LSTMCell object at 0x7f995addc3d0> has the same name 'LSTMCell' as a built-in Keras object. Consider renaming <class 'keras.layers.recurrent.LSTMCell'> to avoid naming conflicts when loading with `tf.keras.models.load_model`. If renaming is not possible, pass the object in the `custom_objects` parameter of the load function.\n"
          ]
        }
      ]
    },
    {
      "cell_type": "code",
      "source": [
        "!pip install flask_ngrok"
      ],
      "metadata": {
        "colab": {
          "base_uri": "https://localhost:8080/"
        },
        "id": "hWy5dU2hx76w",
        "outputId": "797d54cd-c3f8-4cda-f8f5-11d3c7ba19dd"
      },
      "execution_count": 62,
      "outputs": [
        {
          "output_type": "stream",
          "name": "stdout",
          "text": [
            "Looking in indexes: https://pypi.org/simple, https://us-python.pkg.dev/colab-wheels/public/simple/\n",
            "Collecting flask_ngrok\n",
            "  Downloading flask_ngrok-0.0.25-py3-none-any.whl (3.1 kB)\n",
            "Requirement already satisfied: Flask>=0.8 in /usr/local/lib/python3.7/dist-packages (from flask_ngrok) (1.1.4)\n",
            "Requirement already satisfied: requests in /usr/local/lib/python3.7/dist-packages (from flask_ngrok) (2.23.0)\n",
            "Requirement already satisfied: Werkzeug<2.0,>=0.15 in /usr/local/lib/python3.7/dist-packages (from Flask>=0.8->flask_ngrok) (1.0.1)\n",
            "Requirement already satisfied: click<8.0,>=5.1 in /usr/local/lib/python3.7/dist-packages (from Flask>=0.8->flask_ngrok) (7.1.2)\n",
            "Requirement already satisfied: Jinja2<3.0,>=2.10.1 in /usr/local/lib/python3.7/dist-packages (from Flask>=0.8->flask_ngrok) (2.11.3)\n",
            "Requirement already satisfied: itsdangerous<2.0,>=0.24 in /usr/local/lib/python3.7/dist-packages (from Flask>=0.8->flask_ngrok) (1.1.0)\n",
            "Requirement already satisfied: MarkupSafe>=0.23 in /usr/local/lib/python3.7/dist-packages (from Jinja2<3.0,>=2.10.1->Flask>=0.8->flask_ngrok) (2.0.1)\n",
            "Requirement already satisfied: idna<3,>=2.5 in /usr/local/lib/python3.7/dist-packages (from requests->flask_ngrok) (2.10)\n",
            "Requirement already satisfied: chardet<4,>=3.0.2 in /usr/local/lib/python3.7/dist-packages (from requests->flask_ngrok) (3.0.4)\n",
            "Requirement already satisfied: certifi>=2017.4.17 in /usr/local/lib/python3.7/dist-packages (from requests->flask_ngrok) (2022.6.15)\n",
            "Requirement already satisfied: urllib3!=1.25.0,!=1.25.1,<1.26,>=1.21.1 in /usr/local/lib/python3.7/dist-packages (from requests->flask_ngrok) (1.24.3)\n",
            "Installing collected packages: flask-ngrok\n",
            "Successfully installed flask-ngrok-0.0.25\n"
          ]
        }
      ]
    },
    {
      "cell_type": "code",
      "source": [
        "import flask\n",
        "from flask import Flask, render_template, request\n",
        "import pickle\n",
        "import numpy as np\n",
        "from flask_ngrok import run_with_ngrok\n",
        "import warnings\n",
        "warnings.filterwarnings('ignore')\n",
        "\n",
        "app = Flask(__name__)\n",
        "run_with_ngrok(app)\n",
        "\n",
        "model = pickle.load(open('model.pkl', 'rb'))\n",
        "\n",
        "@app.route('/', methods=['GET'])\n",
        "def home():\n",
        "  return render_template('index.html')\n",
        "\n",
        "@app.route('/', methods=['GET', \"POST\"])\n",
        "def predict():\n",
        "  input_values = [float(x) for x in request.form.values()]\n",
        "  inp_features = [input_values]\n",
        "  prediction = model.predict(inp_features)\n",
        "  if prediction==1:\n",
        "    return render_template('index.html', prediction_text='Death event took Place. Person is no more')\n",
        "  else:\n",
        "    return render_template('index.html', prediction_text='Death event not took Place. Person is alive')\n",
        "\n",
        "app.run()"
      ],
      "metadata": {
        "colab": {
          "base_uri": "https://localhost:8080/"
        },
        "id": "XKNRp8951_gh",
        "outputId": "ed440b56-f9b4-4339-a8ad-06940c192b70"
      },
      "execution_count": null,
      "outputs": [
        {
          "output_type": "stream",
          "name": "stdout",
          "text": [
            " * Serving Flask app \"__main__\" (lazy loading)\n",
            " * Environment: production\n",
            "\u001b[31m   WARNING: This is a development server. Do not use it in a production deployment.\u001b[0m\n",
            "\u001b[2m   Use a production WSGI server instead.\u001b[0m\n",
            " * Debug mode: off\n"
          ]
        },
        {
          "output_type": "stream",
          "name": "stderr",
          "text": [
            "2022-07-03 07:01:57.734  * Running on http://127.0.0.1:5000/ (Press CTRL+C to quit)\n"
          ]
        },
        {
          "output_type": "stream",
          "name": "stdout",
          "text": [
            " * Running on http://1fdc-34-80-21-218.ngrok.io\n",
            " * Traffic stats available on http://127.0.0.1:4040\n"
          ]
        }
      ]
    },
    {
      "cell_type": "markdown",
      "source": [
        "#!pip install streamlit \n",
        "#Import streamlit\n",
        "import streamlit as st\n",
        "#Import NumPy and Pandas for data manipulation \n",
        "import pandas as pd\n",
        "import numpy as np\n",
        "from fbprophet import Prophet\n",
        "from fbprophet.diagnostics import performance_metrics\n",
        "from fbprophet.diagnostics import cross_validation\n",
        "from fbprophet.plot import plot_cross_validation_metric\n",
        "#for encoding binary data to printable ASCII characters and decoding it  #back to binary form\n",
        "import base64 "
      ],
      "metadata": {
        "id": "p8wVI2mOaULe"
      }
    },
    {
      "cell_type": "markdown",
      "source": [
        "st.title('ForPredx App')\n",
        "st.write(\"IMPORT DATA\")\n",
        "st.write(\"Import the time series CSV file. It should have two columns labelled as 'ds' and 'y'. The 'ds' column should be of DateTime format by Pandas. The 'y' column must be numeric representing the measurement to be forecasted.\")"
      ],
      "metadata": {
        "id": "aIJA3WJXcjbI"
      }
    },
    {
      "cell_type": "markdown",
      "source": [
        "data = st.file_uploader('Upload here',type='csv')"
      ],
      "metadata": {
        "id": "n3csMNKjjQK9"
      }
    },
    {
      "cell_type": "markdown",
      "source": [
        "if data is not None:\n",
        "  appdata = pd.read_csv(data)  #read the data fro\n",
        "  appdata['ds'] = pd.to_datetime(appdata['ds'],errors='coerce') \n",
        "  st.write(data) #display the data\n",
        "  max_date = appdata['ds'].max() #compute latest date in the data "
      ],
      "metadata": {
        "id": "B5ngLD3Hjc_A"
      }
    },
    {
      "cell_type": "markdown",
      "source": [
        "st.write(\"SELECT FORECAST PERIOD\") #text displayed"
      ],
      "metadata": {
        "id": "NFNYETmajonC"
      }
    },
    {
      "cell_type": "markdown",
      "source": [
        "periods_input = st.number_input('How many days forecast do you want?', min_value = 1, max_value = 365)\n",
        "#The minimum number of days a user can select is one, while the maximum is  #365 (yearly forecast) "
      ],
      "metadata": {
        "id": "4Vu_PVPujrOI"
      }
    },
    {
      "cell_type": "markdown",
      "source": [
        "if data is not None:\n",
        "  obj = Prophet() #Instantiate Chosen Model\n",
        "  obj.fit(appdata) #fit the data "
      ],
      "metadata": {
        "id": "6vplVbJBj2q3"
      }
    },
    {
      "cell_type": "markdown",
      "source": [
        "#text to be displayed\n",
        "st.write(\"VISUALIZE FORECASTED DATA\")  \n",
        "st.write(\"The following plot shows future predicted values. 'yhat' is the predicted value; upper and lower limits are 80% confidence intervals by default\")\n",
        "if data is not None:\n",
        "  future = obj.make_future_dataframe(periods=periods_input)\n",
        "#Prophet.make_future_dataframe() takes the Prophet model object and   #extends the time series dataframe for specified period for which user needs #the forecast\n",
        "  fcst = obj.predict(future)  #make prediction for the extended data\n",
        "  forecast = fcst[['ds', 'yhat', 'yhat_lower', 'yhat_upper']]\n",
        "#The predict() method assigns each row in the ‘future’ dataframe a predicted #value denoted as yhat\n",
        "#Choose only the forecasted records (having date after the latest date in #original data)\n",
        "  forecast_filtered =  forecast[forecast['ds'] > max_date]    \n",
        "  st.write(forecast_filtered)  #Display some forecasted records\n",
        "  st.write(\"The next visual shows the actual black dots and predicted blue line values over time.\")    \n",
        "  figure1 = obj.plot(fcst) #plot the actual and predicted values\n",
        "  st.write(figure1)  #display the plot\n",
        "#Plot the trends using Prophet.plot_components()\n",
        "st.write(\"The following plots show a high level trend of predicted values, day of week trends and yearly trends (if dataset contains multiple years’ data).Blue shaded area represents upper and lower confidence intervals.\")\n",
        "figure2 = obj.plot_components(fcst) \n",
        "st.write(figure2) "
      ],
      "metadata": {
        "id": "xv_jObaukBns"
      }
    },
    {
      "cell_type": "markdown",
      "source": [
        "PROJECT = \"paulchworks\" #@param {type:\"string\"}\n",
        "BUCKET = \"gs://paulchworks-forpredx\"  #@param {type:\"string\", default:\"jddj\"}\n",
        "NEW_MODEL = True #@param {type:\"boolean\"}\n",
        "MODEL_NAME = \"forpredx\" #@param {type:\"string\"}\n",
        "MODEL_VERSION = \"v1\" #@param {type:\"string\"}\n",
        "\n",
        "assert PROJECT, 'For this part, you need a GCP project. Head to http://console.cloud.google.com/ and create one.'\n",
        "assert re.search(r'gs://.+', BUCKET), 'For this part, you need a GCS bucket. Head to http://console.cloud.google.com/storage and create one.'"
      ],
      "metadata": {
        "id": "B-Eqy-0ibMkp"
      }
    },
    {
      "cell_type": "markdown",
      "source": [
        "IS_COLAB_BACKEND = 'COLAB_GPU' in os.environ  # this is always set on Colab, the value is 0 or 1 depending on GPU presence\n",
        "if IS_COLAB_BACKEND:\n",
        "  from google.colab import auth\n",
        "  auth.authenticate_user() # Authenticates the Colab machine to access your private GCS buckets."
      ],
      "metadata": {
        "id": "p39Rg-u4lEea"
      }
    },
    {
      "cell_type": "markdown",
      "source": [
        "export_path = os.path.join(BUCKET, 'keras_export', str(time.time()))\n",
        "@tf.function(input_signature=[tf.TensorSpec([10, 5*1], dtype=tf.uint8)])\n",
        "def my_serve(prices):\n",
        "  prices = tf.cast(prices, tf.float32)/255   # pre-processing\n",
        "  probabilities = regressor_mse(prices, training=False) # prediction from model (inference graph only)\n",
        "  classes = tf.argmax(probabilities, axis=-1) # post-processing\n",
        "  return {'digits': classes}\n",
        "\n",
        "# exporting in the Tensorflow standard SavedModel format with a serving input function\n",
        "regressor_mse.save(export_path, signatures={'serving_default': my_serve}, save_format=\"tf\")\n",
        "print(\"Model exported to: \", export_path)"
      ],
      "metadata": {
        "id": "aVQEJk_4lKKS"
      }
    },
    {
      "cell_type": "markdown",
      "source": [
        "# saved_model_cli: a useful too for troubleshooting SavedModels (the tool is part of the Tensorflow installation)\n",
        "!saved_model_cli show --dir {export_path}\n",
        "!saved_model_cli show --dir {export_path} --tag_set serve\n",
        "!saved_model_cli show --dir {export_path} --tag_set serve --signature_def serving_default\n",
        "# A note on naming:\n",
        "# The \"serve\" tag set (i.e. serving functionality) is the only one exported by tf.saved_model.save\n",
        "# All the other names are defined by the user in the fllowing lines of code:\n",
        "#      def myserve(self, images):\n",
        "#                        ******\n",
        "#        return {'digits': classes}\n",
        "#                 ******\n",
        "#      tf.saved_model.save(..., signatures={'serving_default': serving_model.myserve})\n",
        "#                                            ***************"
      ],
      "metadata": {
        "id": "tacha2j8pQXN"
      }
    },
    {
      "cell_type": "markdown",
      "source": [
        "# Create the model\n",
        "if NEW_MODEL:\n",
        "  !gcloud ai-platform models create {MODEL_NAME} --project={PROJECT} --regions=asia-southeast1"
      ],
      "metadata": {
        "id": "pJb8i6ZdpkY3"
      }
    },
    {
      "cell_type": "code",
      "source": [
        ""
      ],
      "metadata": {
        "id": "R_Fh8h67Unkc"
      },
      "execution_count": null,
      "outputs": []
    }
  ],
  "metadata": {
    "colab": {
      "collapsed_sections": [],
      "name": "ICT619 Artificial Intelligence Assignment and Project - EUR/USD Prediction Model.ipynb",
      "provenance": [],
      "mount_file_id": "1J40pqp9p6yBLNhCdEW0Mg7xOeNPqEHVy",
      "authorship_tag": "ABX9TyNwr44tztYPm9ISl0HgiQof",
      "include_colab_link": true
    },
    "kernelspec": {
      "display_name": "Python 3",
      "name": "python3"
    },
    "language_info": {
      "name": "python"
    }
  },
  "nbformat": 4,
  "nbformat_minor": 0
}